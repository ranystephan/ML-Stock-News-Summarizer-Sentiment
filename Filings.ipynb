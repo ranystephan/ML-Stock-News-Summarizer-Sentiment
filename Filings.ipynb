{
 "cells": [
  {
   "cell_type": "markdown",
   "id": "145ced49-f84f-4e4e-a024-1c81539b656b",
   "metadata": {},
   "source": [
    "# Using AI modeling to interpret 10-Q filings\n",
    "As outlined within Investopedia's, [Stock Analysis: Forecasting Revenue and Growth](https://www.investopedia.com/articles/active-trading/022315/stock-analysis-forecasting-revenue-and-growth.asp#:~:text=Analysts%E2%80%99%20forecasts%20are%20crucial%20to%20setting%20expected%20stock,buy%20or%20sell%20a%20stock%20cannot%20be%20made.),  <em>Making forward projections requires numerous inputs; some come from quantitative data and others are more subjective. The reliability and accuracy of the data drive the forecasts</em>.  Much of this information that determines projections, is available within company reports.  While its true that analysts projections are largely driven based on reported metrics, subjective predictions are a result of many factors, including the language and reporting done within company filings reports.\n",
    "\n",
    "While it is critical to factor all inputs when making forward projections, is it possible to find any correlation with projections based on the interpretation of language within company reports?  By utilizing intelligent models that have been trained on financial data, I will investigate the question of whether the interpretation of financial text can provide any indication of the direction of a given company's outlook.\n",
    "\n",
    "## Strategic Approach\n",
    "By utilizing [AI modeling](https://developers.refinitiv.com/en/use-cases-catalog/ai-pipeline), there are a multitude of approaches when formulating a strategy to analyze data with the ability to predict a specific outcome.  A typical analysis will go through a well-defined set of phases from inception and implementation to deployment and continuous improvement. It is an iterative process that can involve several cycles before the solution converges to a finalised pipeline infrastructure. While this process may lead to more focused predictions, it typically involves a greater investment in time and effort.  Instead, I intentionally plan to utilize existing AI models that allow me to investigate if any correlation can be determined without a huge investment.\n",
    "\n",
    "Using a company's 10-Q - a comprehensive report of the performance that includes relevant information about its financial position - I intend to to perform an analysis of the Management Section defined in each report using the [Forward Looking Statements](https://www.investopedia.com/terms/f/forward-looking.asp#:~:text=%22Forward%20looking%22%20is%20a%20business%20term%20used%20to,to%20buy%20or%20sell%20positions%20in%20the%20company) pre-trained [model](https://huggingface.co/FinanceInc/finbert_fls).  The model was specifically designed to analyze sentences from the *Management Discussion and Analysis* section of annual reports to determine if the text is classified as a Forward Looking Statement. Identifying forward-looking statements from corporate reports can assist investors in financial analysis.\n",
    "\n",
    "## Getting Started\n",
    "To setup our analysis, a number of helper modules and packages are defined below that allow me to extract Filings data, capture financial data, manipulate financial text and measure predictions.  To facilitate the ML (Machine Learning) processing, I plan to utilize analysis components available within [Hugging Face](https://huggingface.co/docs/transformers/model_doc/bert) - a popular data science platform to enable the community to build, train and deploy ML models.  In addition, I will employ [Refinitiv's Filings Service](https://developers.refinitiv.com/en/api-catalog/refinitiv-data-platform/filings-API) as the mechanism to query and access text within company 10-Q reporting and use the [Refinitiv Data Library for Python](https://developers.refinitiv.com/en/api-catalog/refinitiv-data-platform/refinitiv-data-library-for-python) as the means to access this service."
   ]
  },
  {
   "cell_type": "code",
   "execution_count": 3,
   "id": "524de671-a1f3-48d8-bb31-558503184400",
   "metadata": {},
   "outputs": [
    {
     "ename": "ModuleNotFoundError",
     "evalue": "No module named 'matplotlib'",
     "output_type": "error",
     "traceback": [
      "\u001b[0;31m---------------------------------------------------------------------------\u001b[0m",
      "\u001b[0;31mModuleNotFoundError\u001b[0m                       Traceback (most recent call last)",
      "Cell \u001b[0;32mIn[3], line 17\u001b[0m\n\u001b[1;32m     14\u001b[0m \u001b[39mfrom\u001b[39;00m \u001b[39mbs4\u001b[39;00m \u001b[39mimport\u001b[39;00m BeautifulSoup\n\u001b[1;32m     16\u001b[0m \u001b[39m# Helper modules\u001b[39;00m\n\u001b[0;32m---> 17\u001b[0m \u001b[39mimport\u001b[39;00m \u001b[39mmatplotlib\u001b[39;00m\u001b[39m.\u001b[39;00m\u001b[39mpyplot\u001b[39;00m \u001b[39mas\u001b[39;00m \u001b[39mplt\u001b[39;00m\n\u001b[1;32m     18\u001b[0m \u001b[39mfrom\u001b[39;00m \u001b[39mtqdm\u001b[39;00m\u001b[39m.\u001b[39;00m\u001b[39mnotebook\u001b[39;00m \u001b[39mimport\u001b[39;00m trange  \u001b[39m# Progress bar\u001b[39;00m\n\u001b[1;32m     21\u001b[0m \u001b[39m# Convenient modules to simplify API access to Filings\u001b[39;00m\n",
      "\u001b[0;31mModuleNotFoundError\u001b[0m: No module named 'matplotlib'"
     ]
    }
   ],
   "source": [
    "# NLP package used to aid in text manipulation\n",
    "import nltk\n",
    "from nltk.tokenize import word_tokenize, sent_tokenize\n",
    "\n",
    "# Machine Learning modules used to prepare and measure text\n",
    "from transformers import AutoTokenizer, AutoModelForSequenceClassification\n",
    "from transformers import BertTokenizer, BertForSequenceClassification, pipeline\n",
    "import torch\n",
    "import pandas as pd\n",
    "\n",
    "from tqdm.notebook import trange  # Progress bar\n",
    "import pdfplumber  # PDF text extraction\n",
    "\n",
    "# HTML text processing\n",
    "from bs4 import BeautifulSoup\n",
    "\n",
    "# Helper modules\n",
    "import matplotlib.pyplot as plt\n",
    "from tqdm.notebook import trange  # Progress bar\n",
    "\n",
    "\n",
    "# Convenient modules to simplify API access to Filings\n",
    "pd.set_option('display.max_colwidth', 60)\n"
   ]
  },
  {
   "cell_type": "markdown",
   "id": "2b05f38c-5ce8-472e-bc06-183f49f8975b",
   "metadata": {},
   "source": [
    "### ML modules\n",
    "For the analysis presented here, I plan to utilize the following pre-trained ML models:\n",
    "* [Finbert FLS](https://huggingface.co/FinanceInc/finbert_fls)\n",
    "\n",
    " A FinBERT model fine-tuned on 3,500 manually annotated sentences from the *Management Discussion and Analysis* section of annual reports of Russell 3000 firms. The model is designed to detect *Forward-looking statements* (FLS) that typically indicate beliefs and opinions about firm's future events or results.\n",
    " \n",
    "* [Finbert Sentiment](https://huggingface.co/ProsusAI/finbert)\n",
    "\n",
    " A FinBERT Natural Language Processing (NLP) component to analyze sentiment of financial text. It is built by further training the BERT language model in the finance domain, using a large financial corpus and thereby fine-tuning it for financial sentiment classification.  The goal here is to determine if there is anything indicative when measuring sentiment for the FLS statements within the Filings discussion text."
   ]
  },
  {
   "cell_type": "code",
   "execution_count": 3,
   "id": "d54b0d30-8183-48c7-ba46-4742765f4fa9",
   "metadata": {},
   "outputs": [],
   "source": [
    "# Load the models\n",
    "finbert = BertForSequenceClassification.from_pretrained('yiyanghkust/finbert-fls',num_labels=3)"
   ]
  },
  {
   "cell_type": "code",
   "execution_count": 4,
   "id": "d586df4f-9be6-4b55-99f5-785542fba736",
   "metadata": {},
   "outputs": [],
   "source": [
    "# Download the Pre-trained transformer used to process our raw text\n",
    "tokenizer = BertTokenizer.from_pretrained('yiyanghkust/finbert-fls')"
   ]
  },
  {
   "cell_type": "code",
   "execution_count": 5,
   "id": "3db2bdd2-4909-4484-9180-4118b187d431",
   "metadata": {},
   "outputs": [],
   "source": [
    "# Download the FinBert model used to process our transformed data\n",
    "nlp = pipeline(\"text-classification\", model=finbert, tokenizer=tokenizer)"
   ]
  },
  {
   "cell_type": "markdown",
   "id": "e105b298-3cb9-4086-9dd7-dbc8ca08e81b",
   "metadata": {},
   "source": [
    "The *finbert-fls* model was specifically designed to analyze financial text to provide a score for each of the predictive states defined by the model:\n",
    "* Specific FLS\n",
    "* Non-specific FLS\n",
    "* Not FLS\n",
    "\n",
    "For example, we can feed in any text into the model to demonstrate:"
   ]
  },
  {
   "cell_type": "code",
   "execution_count": 6,
   "id": "f6d8b2b8-4229-4f4a-86ed-926a5b716574",
   "metadata": {},
   "outputs": [
    {
     "data": {
      "text/plain": [
       "[{'label': 'Specific FLS', 'score': 0.8574217557907104},\n",
       " {'label': 'Non-specific FLS', 'score': 0.13532030582427979},\n",
       " {'label': 'Not FLS', 'score': 0.007257894147187471}]"
      ]
     },
     "execution_count": 6,
     "metadata": {},
     "output_type": "execute_result"
    }
   ],
   "source": [
    "prediction = nlp(\"The future for next years sales will increase by 10 %.\", top_k=3)\n",
    "prediction"
   ]
  },
  {
   "cell_type": "markdown",
   "id": "16eaeb5f-6276-4c3a-bc6a-aa861b6faf89",
   "metadata": {},
   "source": [
    "The first 2 outcomes (Specific and Non-specific) represent statements that are **Forward Looking Statements**.  However, the main difference is that 'specific' statements can be interpreted as more precise or specific.  For example:\n",
    "\n",
    "> *The future for next years sales will increase by 10 %.*\n",
    "\n",
    "The above statement is specific in that it is precise regarding the increase in sales by 10%."
   ]
  },
  {
   "cell_type": "code",
   "execution_count": 7,
   "id": "cbb8cd4a-f545-463c-bde2-297399b87276",
   "metadata": {},
   "outputs": [
    {
     "data": {
      "text/plain": [
       "[{'label': 'Non-specific FLS', 'score': 0.5118423700332642},\n",
       " {'label': 'Specific FLS', 'score': 0.47918376326560974},\n",
       " {'label': 'Not FLS', 'score': 0.008973861113190651}]"
      ]
     },
     "execution_count": 7,
     "metadata": {},
     "output_type": "execute_result"
    }
   ],
   "source": [
    "# Conversely, if we change the above statement slightly...\n",
    "prediction = nlp(\"The future for next years sales will increase.\", top_k=3)\n",
    "prediction"
   ]
  },
  {
   "cell_type": "markdown",
   "id": "6c4de2f5-1b78-4865-af8f-94162ffc621b",
   "metadata": {},
   "source": [
    "However, the following statement:\n",
    "\n",
    "> *The future for next years sales will increase.*\n",
    "\n",
    "leans less against specific and more towards non-specific as it is not clear what the sales increase will be.  In general, non-specific statements can be ambiguous and potentially lead to uncertainty where specific statements provide more confidence and clarity.\n",
    "\n",
    "#### Sentiment\n",
    "As part of our analysis, I plan to evaluate the Forward Looking Statement to measure the sentiment of each.  While Forward Looking Statements can provide predictions about future business conditions, these conditions are not necessarily positive.  It might be useful to measure the overall tone of the forward looking statements during the analysis."
   ]
  },
  {
   "cell_type": "code",
   "execution_count": 8,
   "id": "e2cce1cd",
   "metadata": {},
   "outputs": [],
   "source": [
    "# Sentiment - Download the Pre-trained transformer used to process our raw text\n",
    "sent_tokenizer = AutoTokenizer.from_pretrained(\"ProsusAI/finbert\")"
   ]
  },
  {
   "cell_type": "code",
   "execution_count": 9,
   "id": "b7ed8a79-267e-42a4-b026-8d6347d52dcc",
   "metadata": {},
   "outputs": [],
   "source": [
    "# Sentiment - Download the FinBert model used to process our transformed data\n",
    "model = AutoModelForSequenceClassification.from_pretrained(\"ProsusAI/finbert\")"
   ]
  },
  {
   "cell_type": "code",
   "execution_count": 10,
   "metadata": {},
   "outputs": [],
   "source": [
    "def extract_text_from_pdf(pdf_path):\n",
    "    text = ''\n",
    "    with pdfplumber.open(pdf_path) as pdf:\n",
    "        for page in pdf.pages:\n",
    "            text += page.extract_text() or ''  # Ensuring that None is not returned\n",
    "    return text"
   ]
  },
  {
   "cell_type": "markdown",
   "id": "16e4f9b2-1df2-4014-a484-6a8232dad663",
   "metadata": {},
   "source": [
    "### Filings\n",
    "The Filings service available within Refinitiv provides the ability to search and extract Global Filings documents for thousands of companies spanning over 50 years of history.  As part of the service, the interface supports the extraction of specific sections within a document.  For example, 10-Q filings are well-structured documents containing specific sections such as Management Discussion, Exhibits, Cashflow Statements, etc.  By utilizing the capabilities offered within the Filings GraphQL interface, I can explicitly choose a specific section for analysis.  Because the <b>entire Filings document</b> is typically complex and contains many standard sections, this will introduce too much insignificant text that may skew the analysis.  Instead, our goal is to utilize the power of the service to choose a specific section that can offer text that may dictate the tone representative of the overall sentiment of the Filing."
   ]
  },
  {
   "cell_type": "markdown",
   "id": "914adaf1-ea08-4b40-9bf4-c5bfbf33853b",
   "metadata": {
    "tags": []
   },
   "source": [
    "#### Define the input properties required for analysis\n",
    "There are a number of ways I can collect filings data and the strategy I can use to evaluate the text.  For this analysis, I've chosen to use a single company and capture multiple reports over time.  One thing I considered was that I intentionally avoided mixing filings from multiple companies.  It's quite possible that we may get more accurate results if we focus on the writing style and tone from the same company.\n",
    "\n",
    "To begin, I'll prepare criteria that acts as the basis for the data sets by choosing a company and a time frame to capture content."
   ]
  },
  {
   "cell_type": "code",
   "execution_count": 11,
   "id": "fa556ffe-abc1-4ff1-9d0a-25c8006fb286",
   "metadata": {
    "tags": []
   },
   "outputs": [],
   "source": [
    "# Use the RIC to define our company identifier\n",
    "identifier = \"AAPL.O\" # Tesla\n",
    "# Data ranges to capture our data sets used to predict sentiment\n",
    "start = \"2010-01-01T00:00:00Z\"\n",
    "end = \"2022-10-31T23:59:59Z\""
   ]
  },
  {
   "cell_type": "markdown",
   "id": "d542663c-74c2-48b5-8e13-4954caeb47f1",
   "metadata": {
    "tags": []
   },
   "source": [
    "The Filings API utilizes the *Organization ID* or *Company Perm ID* as the key to locate a specific company.  The following approaches can be used to determine the company of interest.  \n",
    "\n",
    "Within the desktop:\n",
    "\n",
    " * From the search window in the Desktop Taskbar, start typing the name of the company.  For example, using Refinitiv Workspace, start typing and auto-suggest will present matches. When found, hit the \"tab\" key.  Follow this up by typing \"Codes\" then hit tab then press \"enter\" and a screen will show the \"Company PermID\".\n",
    " * Within the desktop, pull up the DIB (Data Item Browser) and locate the field [TR.OrganizationID].  For example, as above, select the company.  In the field input window, type \"Organization\" and look for TR.OrganizationID.\n",
    " \n",
    "Alternatively:\n",
    " * The ID can be determined programmatically using the SymbolLookup component outlined above. I will use *SymbolLookup()* mechanism in the next step."
   ]
  },
  {
   "cell_type": "code",
   "execution_count": 12,
   "id": "9ed8be02-a144-4a57-8698-4b615c4cfe89",
   "metadata": {},
   "outputs": [],
   "source": [
    "# Query the Filings service using the Refinitiv Data Library for Python.\n",
    "#\n",
    "# Retrieve SEC filings for the specific company - specify the text we want to retrieve\n",
    "# is defined within the \"Management Discussion\" section.\n",
    "response = filings.search.Definition(\n",
    "    query = FilingsQuery().form_type(\"10-Q\")\n",
    "                          .orgid(SymbolLookup(ric=identifier).convert())\n",
    "                          .feed(FilingsQuery.Feed.EDGAR)\n",
    "                          .sections([\"ManagementDiscussion\"])\n",
    "                          .start_date(start)\n",
    "                          .end_date(end)\n",
    "                          .limit(100)\n",
    "                          .graphQL\n",
    ").get_data()"
   ]
  },
  {
   "cell_type": "code",
   "execution_count": 18,
   "id": "e5c92594-9c76-4313-9acc-1de45f29bfa0",
   "metadata": {},
   "outputs": [
    {
     "data": {
      "text/plain": [
       "39"
      ]
     },
     "execution_count": 18,
     "metadata": {},
     "output_type": "execute_result"
    }
   ],
   "source": [
    "# Retrieve and report the # of reports based on our query\n",
    "reports = response.data.raw['data']['FinancialFiling']\n",
    "organization = reports[0][\"FilingOrganization\"]['Names']['Name']['OrganizationName'][0]['Name']\n",
    "len(reports)"
   ]
  },
  {
   "cell_type": "code",
   "execution_count": 24,
   "id": "415bf01f-a1fa-4838-bf1c-95629ddb4e1b",
   "metadata": {},
   "outputs": [
    {
     "data": {
      "text/plain": [
       "Response(is_success=True, raw=<Response [200 OK]>, errors=[], closure=None, requests_count=1, _data_factory=<refinitiv.data.content._content_response_factory.ContentResponseFactory object at 0x7fc829d94bb0>, _kwargs={'session': <refinitiv.data.session.Definition object at 0x7fc829544ca0 {name='rdp'}>, 'auto_retry': False, 'method': <RequestMethod.POST: 'POST'>, 'query': '{FinancialFiling(filter: {AND: [{FilingDocument: {DocumentSummary: {FilingDate: {BETWN: {FROM: \"2010-01-01T00:00:00Z\", TO: \"2022-10-31T23:59:59Z\"}}}}},{FilingDocument: {Identifiers: {OrganizationId: {EQ: \"4295905573\"}}}},{FilingDocument: {DocumentSummary: {FormType: {EQ: \"10-Q\"}}}},{FilingDocument: {DocumentSummary: {FeedId: {EQ: \"1\"}}}}]},  sort: {FilingDocument: {DocumentSummary: {FilingDate: DESC}}}, limit: 100 ) {_metadata {totalCount cursor} FilingOrganization {Names {Name {OrganizationName(filter: {AND: [ {LanguageId_v2: {EQ: \"505062\"}}, {NameTypeCode: {EQ: \"LNG\"}}]}) {Name}}}} FilingDocument {Identifiers {OrganizationId Dcn} DocId FinancialFilingId Sections { ManagementDiscussion { Text }  } DocumentSummary {DocumentTitle FeedName FormType HighLevelCategory MidLevelCategory FilingDate SecAccessionNumber SizeInBytes} FilesMetaData {FileName MimeType} }}}', 'variables': None, 'form_type': None, 'feed': None, 'org_id': None, 'start_date': None, 'end_date': None, 'text': None, 'sections': None, 'limit': None, 'sort_order': None, '__data_type__': <ContentType.FILINGS_SEARCH: 36>, '__content_type__': <ContentType.FILINGS_SEARCH: 36>}, _raw={'data': {'FinancialFiling': [{'_metadata': {'totalCount': 39, 'cursor': 'WzE2NTkwNTI4MDAwMDAsIjk3NjczNjIzNTExIl0='}, 'FilingOrganization': {'Names': {'Name': {'OrganizationName': [{'Name': 'APPLE INC.'}]}}}, 'FilingDocument': {'Identifiers': [{'OrganizationId': None, 'Dcn': None}], 'DocId': None, 'FinancialFilingId': None, 'Sections': {'ManagementDiscussion': {'Text': None}}, 'DocumentSummary': {'DocumentTitle': None, 'FeedName': None, 'FormType': None, 'HighLevelCategory': None, 'MidLevelCategory': None, 'FilingDate': None, 'SecAccessionNumber': None, 'SizeInBytes': None}, 'FilesMetaData': [{'FileName': None, 'MimeType': None}, {'FileName': None, 'MimeType': None}, {'FileName': None, 'MimeType': None}, {'FileName': None, 'MimeType': None}, {'FileName': None, 'MimeType': None}]}}, {'_metadata': {'totalCount': 39, 'cursor': 'WzE2NTExOTA0MDAwMDAsIjk3NjcyMjA0MDkzIl0='}, 'FilingOrganization': {'Names': {'Name': {'OrganizationName': [{'Name': 'APPLE INC.'}]}}}, 'FilingDocument': {'Identifiers': [{'OrganizationId': None, 'Dcn': None}], 'DocId': None, 'FinancialFilingId': None, 'Sections': {'ManagementDiscussion': {'Text': None}}, 'DocumentSummary': {'DocumentTitle': None, 'FeedName': None, 'FormType': None, 'HighLevelCategory': None, 'MidLevelCategory': None, 'FilingDate': None, 'SecAccessionNumber': None, 'SizeInBytes': None}, 'FilesMetaData': [{'FileName': None, 'MimeType': None}, {'FileName': None, 'MimeType': None}, {'FileName': None, 'MimeType': None}, {'FileName': None, 'MimeType': None}, {'FileName': None, 'MimeType': None}]}}, {'_metadata': {'totalCount': 39, 'cursor': 'WzE2NDMzMjgwMDAwMDAsIjk3NjY4Mjc0NDA1Il0='}, 'FilingOrganization': {'Names': {'Name': {'OrganizationName': [{'Name': 'APPLE INC.'}]}}}, 'FilingDocument': {'Identifiers': [{'OrganizationId': None, 'Dcn': None}], 'DocId': None, 'FinancialFilingId': None, 'Sections': {'ManagementDiscussion': {'Text': None}}, 'DocumentSummary': {'DocumentTitle': None, 'FeedName': None, 'FormType': None, 'HighLevelCategory': None, 'MidLevelCategory': None, 'FilingDate': None, 'SecAccessionNumber': None, 'SizeInBytes': None}, 'FilesMetaData': [{'FileName': None, 'MimeType': None}, {'FileName': None, 'MimeType': None}, {'FileName': None, 'MimeType': None}, {'FileName': None, 'MimeType': None}, {'FileName': None, 'MimeType': None}]}}, {'_metadata': {'totalCount': 39, 'cursor': 'WzE2Mjc0MzA0MDAwMDAsIjk3NjY0MTY4NDcwIl0='}, 'FilingOrganization': {'Names': {'Name': {'OrganizationName': [{'Name': 'APPLE INC.'}]}}}, 'FilingDocument': {'Identifiers': [{'OrganizationId': None, 'Dcn': None}], 'DocId': None, 'FinancialFilingId': None, 'Sections': {'ManagementDiscussion': {'Text': None}}, 'DocumentSummary': {'DocumentTitle': None, 'FeedName': None, 'FormType': None, 'HighLevelCategory': None, 'MidLevelCategory': None, 'FilingDate': None, 'SecAccessionNumber': None, 'SizeInBytes': None}, 'FilesMetaData': [{'FileName': None, 'MimeType': None}, {'FileName': None, 'MimeType': None}, {'FileName': None, 'MimeType': None}, {'FileName': None, 'MimeType': None}]}}, {'_metadata': {'totalCount': 39, 'cursor': 'WzE2MTk2NTQ0MDAwMDAsIjk3NjYyNzgxNjQzIl0='}, 'FilingOrganization': {'Names': {'Name': {'OrganizationName': [{'Name': 'APPLE INC.'}]}}}, 'FilingDocument': {'Identifiers': [{'OrganizationId': None, 'Dcn': None}], 'DocId': None, 'FinancialFilingId': None, 'Sections': {'ManagementDiscussion': {'Text': None}}, 'DocumentSummary': {'DocumentTitle': None, 'FeedName': None, 'FormType': None, 'HighLevelCategory': None, 'MidLevelCategory': None, 'FilingDate': None, 'SecAccessionNumber': None, 'SizeInBytes': None}, 'FilesMetaData': [{'FileName': None, 'MimeType': None}, {'FileName': None, 'MimeType': None}, {'FileName': None, 'MimeType': None}, {'FileName': None, 'MimeType': None}]}}, {'_metadata': {'totalCount': 39, 'cursor': 'WzE2MTE3OTIwMDAwMDAsIjk3NjYxMjU0NTc1Il0='}, 'FilingOrganization': {'Names': {'Name': {'OrganizationName': [{'Name': 'APPLE INC.'}]}}}, 'FilingDocument': {'Identifiers': [{'OrganizationId': None, 'Dcn': None}], 'DocId': None, 'FinancialFilingId': None, 'Sections': {'ManagementDiscussion': {'Text': None}}, 'DocumentSummary': {'DocumentTitle': None, 'FeedName': None, 'FormType': None, 'HighLevelCategory': None, 'MidLevelCategory': None, 'FilingDate': None, 'SecAccessionNumber': None, 'SizeInBytes': None}, 'FilesMetaData': [{'FileName': None, 'MimeType': None}, {'FileName': None, 'MimeType': None}, {'FileName': None, 'MimeType': None}, {'FileName': None, 'MimeType': None}]}}, {'_metadata': {'totalCount': 39, 'cursor': 'WzE1OTYxNTM2MDAwMDAsIjk3NjU5NjA3MzcxIl0='}, 'FilingOrganization': {'Names': {'Name': {'OrganizationName': [{'Name': 'APPLE INC.'}]}}}, 'FilingDocument': {'Identifiers': [{'OrganizationId': None, 'Dcn': None}], 'DocId': None, 'FinancialFilingId': None, 'Sections': {'ManagementDiscussion': {'Text': None}}, 'DocumentSummary': {'DocumentTitle': None, 'FeedName': None, 'FormType': None, 'HighLevelCategory': None, 'MidLevelCategory': None, 'FilingDate': None, 'SecAccessionNumber': None, 'SizeInBytes': None}, 'FilesMetaData': [{'FileName': None, 'MimeType': None}, {'FileName': None, 'MimeType': None}, {'FileName': None, 'MimeType': None}, {'FileName': None, 'MimeType': None}, {'FileName': None, 'MimeType': None}]}}, {'_metadata': {'totalCount': 39, 'cursor': 'WzE1ODgyOTEyMDAwMDAsIjk3NjU4Nzk0MDk2Il0='}, 'FilingOrganization': {'Names': {'Name': {'OrganizationName': [{'Name': 'APPLE INC.'}]}}}, 'FilingDocument': {'Identifiers': [{'OrganizationId': None, 'Dcn': None}], 'DocId': None, 'FinancialFilingId': None, 'Sections': {'ManagementDiscussion': {'Text': None}}, 'DocumentSummary': {'DocumentTitle': None, 'FeedName': None, 'FormType': None, 'HighLevelCategory': None, 'MidLevelCategory': None, 'FilingDate': None, 'SecAccessionNumber': None, 'SizeInBytes': None}, 'FilesMetaData': [{'FileName': None, 'MimeType': None}, {'FileName': None, 'MimeType': None}, {'FileName': None, 'MimeType': None}, {'FileName': None, 'MimeType': None}, {'FileName': None, 'MimeType': None}]}}, {'_metadata': {'totalCount': 39, 'cursor': 'WzE1ODAyNTYwMDAwMDAsIjk3NjU3NjcxNDMwIl0='}, 'FilingOrganization': {'Names': {'Name': {'OrganizationName': [{'Name': 'APPLE INC.'}]}}}, 'FilingDocument': {'Identifiers': [{'OrganizationId': None, 'Dcn': None}], 'DocId': None, 'FinancialFilingId': None, 'Sections': {'ManagementDiscussion': {'Text': None}}, 'DocumentSummary': {'DocumentTitle': None, 'FeedName': None, 'FormType': None, 'HighLevelCategory': None, 'MidLevelCategory': None, 'FilingDate': None, 'SecAccessionNumber': None, 'SizeInBytes': None}, 'FilesMetaData': [{'FileName': None, 'MimeType': None}, {'FileName': None, 'MimeType': None}, {'FileName': None, 'MimeType': None}, {'FileName': None, 'MimeType': None}, {'FileName': None, 'MimeType': None}]}}, {'_metadata': {'totalCount': 39, 'cursor': 'WzE1NjQ1MzEyMDAwMDAsIjk3NjU2MTkwODc2Il0='}, 'FilingOrganization': {'Names': {'Name': {'OrganizationName': [{'Name': 'APPLE INC.'}]}}}, 'FilingDocument': {'Identifiers': [{'OrganizationId': None, 'Dcn': None}], 'DocId': None, 'FinancialFilingId': None, 'Sections': {'ManagementDiscussion': {'Text': None}}, 'DocumentSummary': {'DocumentTitle': None, 'FeedName': None, 'FormType': None, 'HighLevelCategory': None, 'MidLevelCategory': None, 'FilingDate': None, 'SecAccessionNumber': None, 'SizeInBytes': None}, 'FilesMetaData': [{'FileName': None, 'MimeType': None}, {'FileName': None, 'MimeType': None}, {'FileName': None, 'MimeType': None}, {'FileName': None, 'MimeType': None}, {'FileName': None, 'MimeType': None}]}}, {'_metadata': {'totalCount': 39, 'cursor': 'WzE1NTY2Njg4MDAwMDAsIjk3NjU1MTg5MDMyIl0='}, 'FilingOrganization': {'Names': {'Name': {'OrganizationName': [{'Name': 'APPLE INC.'}]}}}, 'FilingDocument': {'Identifiers': [{'OrganizationId': None, 'Dcn': None}], 'DocId': None, 'FinancialFilingId': None, 'Sections': {'ManagementDiscussion': {'Text': None}}, 'DocumentSummary': {'DocumentTitle': None, 'FeedName': None, 'FormType': None, 'HighLevelCategory': None, 'MidLevelCategory': None, 'FilingDate': None, 'SecAccessionNumber': None, 'SizeInBytes': None}, 'FilesMetaData': [{'FileName': None, 'MimeType': None}, {'FileName': None, 'MimeType': None}, {'FileName': None, 'MimeType': None}, {'FileName': None, 'MimeType': None}]}}, {'_metadata': {'totalCount': 39, 'cursor': 'WzE1NDg4MDY0MDAwMDAsIjk3NjU0MTYwNTMwIl0='}, 'FilingOrganization': {'Names': {'Name': {'OrganizationName': [{'Name': 'APPLE INC.'}]}}}, 'FilingDocument': {'Identifiers': [{'OrganizationId': None, 'Dcn': None}], 'DocId': None, 'FinancialFilingId': None, 'Sections': {'ManagementDiscussion': {'Text': None}}, 'DocumentSummary': {'DocumentTitle': None, 'FeedName': None, 'FormType': None, 'HighLevelCategory': None, 'MidLevelCategory': None, 'FilingDate': None, 'SecAccessionNumber': None, 'SizeInBytes': None}, 'FilesMetaData': [{'FileName': None, 'MimeType': None}, {'FileName': None, 'MimeType': None}, {'FileName': None, 'MimeType': None}, {'FileName': None, 'MimeType': None}, {'FileName': None, 'MimeType': None}]}}, {'_metadata': {'totalCount': 39, 'cursor': 'WzE1MzMwODE2MDAwMDAsIjk3NjUyNjAyMDU5Il0='}, 'FilingOrganization': {'Names': {'Name': {'OrganizationName': [{'Name': 'APPLE INC.'}]}}}, 'FilingDocument': {'Identifiers': [{'OrganizationId': None, 'Dcn': None}], 'DocId': None, 'FinancialFilingId': None, 'Sections': {'ManagementDiscussion': {'Text': None}}, 'DocumentSummary': {'DocumentTitle': None, 'FeedName': None, 'FormType': None, 'HighLevelCategory': None, 'MidLevelCategory': None, 'FilingDate': None, 'SecAccessionNumber': None, 'SizeInBytes': None}, 'FilesMetaData': [{'FileName': None, 'MimeType': None}, {'FileName': None, 'MimeType': None}, {'FileName': None, 'MimeType': None}, {'FileName': None, 'MimeType': None}, {'FileName': None, 'MimeType': None}]}}, {'_metadata': {'totalCount': 39, 'cursor': 'WzE1MjUyMTkyMDAwMDAsIjk3NjUxNzU5MTMxIl0='}, 'FilingOrganization': {'Names': {'Name': {'OrganizationName': [{'Name': 'APPLE INC.'}]}}}, 'FilingDocument': {'Identifiers': [{'OrganizationId': None, 'Dcn': None}], 'DocId': None, 'FinancialFilingId': None, 'Sections': {'ManagementDiscussion': {'Text': None}}, 'DocumentSummary': {'DocumentTitle': None, 'FeedName': None, 'FormType': None, 'HighLevelCategory': None, 'MidLevelCategory': None, 'FilingDate': None, 'SecAccessionNumber': None, 'SizeInBytes': None}, 'FilesMetaData': [{'FileName': None, 'MimeType': None}, {'FileName': None, 'MimeType': None}, {'FileName': None, 'MimeType': None}, {'FileName': None, 'MimeType': None}, {'FileName': None, 'MimeType': None}]}}, {'_metadata': {'totalCount': 39, 'cursor': 'WzE1MTc1Mjk2MDAwMDAsIjk3NjUwNzIyMDQwIl0='}, 'FilingOrganization': {'Names': {'Name': {'OrganizationName': [{'Name': 'APPLE INC.'}]}}}, 'FilingDocument': {'Identifiers': [{'OrganizationId': None, 'Dcn': None}], 'DocId': None, 'FinancialFilingId': None, 'Sections': {'ManagementDiscussion': {'Text': None}}, 'DocumentSummary': {'DocumentTitle': None, 'FeedName': None, 'FormType': None, 'HighLevelCategory': None, 'MidLevelCategory': None, 'FilingDate': None, 'SecAccessionNumber': None, 'SizeInBytes': None}, 'FilesMetaData': [{'FileName': None, 'MimeType': None}, {'FileName': None, 'MimeType': None}, {'FileName': None, 'MimeType': None}, {'FileName': None, 'MimeType': None}, {'FileName': None, 'MimeType': None}]}}, {'_metadata': {'totalCount': 39, 'cursor': 'WzE1MDE2MzIwMDAwMDAsIjk3NjQ5MjE0NTIzIl0='}, 'FilingOrganization': {'Names': {'Name': {'OrganizationName': [{'Name': 'APPLE INC.'}]}}}, 'FilingDocument': {'Identifiers': [{'OrganizationId': None, 'Dcn': None}], 'DocId': None, 'FinancialFilingId': None, 'Sections': {'ManagementDiscussion': {'Text': None}}, 'DocumentSummary': {'DocumentTitle': None, 'FeedName': None, 'FormType': None, 'HighLevelCategory': None, 'MidLevelCategory': None, 'FilingDate': None, 'SecAccessionNumber': None, 'SizeInBytes': None}, 'FilesMetaData': [{'FileName': None, 'MimeType': None}, {'FileName': None, 'MimeType': None}, {'FileName': None, 'MimeType': None}, {'FileName': None, 'MimeType': None}, {'FileName': None, 'MimeType': None}]}}, {'_metadata': {'totalCount': 39, 'cursor': 'WzE0OTM3Njk2MDAwMDAsIjk3NjQ4NDIzMjg5Il0='}, 'FilingOrganization': {'Names': {'Name': {'OrganizationName': [{'Name': 'APPLE INC.'}]}}}, 'FilingDocument': {'Identifiers': [{'OrganizationId': None, 'Dcn': None}], 'DocId': None, 'FinancialFilingId': None, 'Sections': {'ManagementDiscussion': {'Text': None}}, 'DocumentSummary': {'DocumentTitle': None, 'FeedName': None, 'FormType': None, 'HighLevelCategory': None, 'MidLevelCategory': None, 'FilingDate': None, 'SecAccessionNumber': None, 'SizeInBytes': None}, 'FilesMetaData': [{'FileName': None, 'MimeType': None}, {'FileName': None, 'MimeType': None}, {'FileName': None, 'MimeType': None}, {'FileName': None, 'MimeType': None}, {'FileName': None, 'MimeType': None}]}}, {'_metadata': {'totalCount': 39, 'cursor': 'WzE0ODU5MDcyMDAwMDAsIjk3NjQ3NDI0ODc2Il0='}, 'FilingOrganization': {'Names': {'Name': {'OrganizationName': [{'Name': 'APPLE INC.'}]}}}, 'FilingDocument': {'Identifiers': [{'OrganizationId': None, 'Dcn': None}], 'DocId': None, 'FinancialFilingId': None, 'Sections': {'ManagementDiscussion': {'Text': None}}, 'DocumentSummary': {'DocumentTitle': None, 'FeedName': None, 'FormType': None, 'HighLevelCategory': None, 'MidLevelCategory': None, 'FilingDate': None, 'SecAccessionNumber': None, 'SizeInBytes': None}, 'FilesMetaData': [{'FileName': None, 'MimeType': None}, {'FileName': None, 'MimeType': None}, {'FileName': None, 'MimeType': None}, {'FileName': None, 'MimeType': None}, {'FileName': None, 'MimeType': None}]}}, {'_metadata': {'totalCount': 39, 'cursor': 'WzE0Njk1Nzc2MDAwMDAsIjk3NjQ1OTE3OTAxIl0='}, 'FilingOrganization': {'Names': {'Name': {'OrganizationName': [{'Name': 'APPLE INC.'}]}}}, 'FilingDocument': {'Identifiers': [{'OrganizationId': None, 'Dcn': None}], 'DocId': None, 'FinancialFilingId': None, 'Sections': {'ManagementDiscussion': {'Text': None}}, 'DocumentSummary': {'DocumentTitle': None, 'FeedName': None, 'FormType': None, 'HighLevelCategory': None, 'MidLevelCategory': None, 'FilingDate': None, 'SecAccessionNumber': None, 'SizeInBytes': None}, 'FilesMetaData': [{'FileName': None, 'MimeType': None}, {'FileName': None, 'MimeType': None}, {'FileName': None, 'MimeType': None}, {'FileName': None, 'MimeType': None}, {'FileName': None, 'MimeType': None}]}}, {'_metadata': {'totalCount': 39, 'cursor': 'WzE0NjE3MTUyMDAwMDAsIjk3NjQ1MTQ5ODY5Il0='}, 'FilingOrganization': {'Names': {'Name': {'OrganizationName': [{'Name': 'APPLE INC.'}]}}}, 'FilingDocument': {'Identifiers': [{'OrganizationId': None, 'Dcn': None}], 'DocId': None, 'FinancialFilingId': None, 'Sections': {'ManagementDiscussion': {'Text': None}}, 'DocumentSummary': {'DocumentTitle': None, 'FeedName': None, 'FormType': None, 'HighLevelCategory': None, 'MidLevelCategory': None, 'FilingDate': None, 'SecAccessionNumber': None, 'SizeInBytes': None}, 'FilesMetaData': [{'FileName': None, 'MimeType': None}, {'FileName': None, 'MimeType': None}, {'FileName': None, 'MimeType': None}, {'FileName': None, 'MimeType': None}, {'FileName': None, 'MimeType': None}]}}, {'_metadata': {'totalCount': 39, 'cursor': 'WzE0NTM4NTI4MDAwMDAsIjk3NjQ0MjMxNzIyIl0='}, 'FilingOrganization': {'Names': {'Name': {'OrganizationName': [{'Name': 'APPLE INC.'}]}}}, 'FilingDocument': {'Identifiers': [{'OrganizationId': None, 'Dcn': None}], 'DocId': None, 'FinancialFilingId': None, 'Sections': {'ManagementDiscussion': {'Text': None}}, 'DocumentSummary': {'DocumentTitle': None, 'FeedName': None, 'FormType': None, 'HighLevelCategory': None, 'MidLevelCategory': None, 'FilingDate': None, 'SecAccessionNumber': None, 'SizeInBytes': None}, 'FilesMetaData': [{'FileName': None, 'MimeType': None}, {'FileName': None, 'MimeType': None}, {'FileName': None, 'MimeType': None}, {'FileName': None, 'MimeType': None}, {'FileName': None, 'MimeType': None}]}}, {'_metadata': {'totalCount': 39, 'cursor': 'WzE0Mzc1MjMyMDAwMDAsIjk3NjQyOTQ1NDc1Il0='}, 'FilingOrganization': {'Names': {'Name': {'OrganizationName': [{'Name': 'APPLE INC.'}]}}}, 'FilingDocument': {'Identifiers': [{'OrganizationId': None, 'Dcn': None}], 'DocId': None, 'FinancialFilingId': None, 'Sections': {'ManagementDiscussion': {'Text': None}}, 'DocumentSummary': {'DocumentTitle': None, 'FeedName': None, 'FormType': None, 'HighLevelCategory': None, 'MidLevelCategory': None, 'FilingDate': None, 'SecAccessionNumber': None, 'SizeInBytes': None}, 'FilesMetaData': [{'FileName': None, 'MimeType': None}, {'FileName': None, 'MimeType': None}, {'FileName': None, 'MimeType': None}, {'FileName': None, 'MimeType': None}, {'FileName': None, 'MimeType': None}]}}, {'_metadata': {'totalCount': 39, 'cursor': 'WzE0MzAxNzkyMDAwMDAsIjk3NjQyMjMzOTc0Il0='}, 'FilingOrganization': {'Names': {'Name': {'OrganizationName': [{'Name': 'APPLE INC.'}]}}}, 'FilingDocument': {'Identifiers': [{'OrganizationId': None, 'Dcn': None}], 'DocId': None, 'FinancialFilingId': None, 'Sections': {'ManagementDiscussion': {'Text': None}}, 'DocumentSummary': {'DocumentTitle': None, 'FeedName': None, 'FormType': None, 'HighLevelCategory': None, 'MidLevelCategory': None, 'FilingDate': None, 'SecAccessionNumber': None, 'SizeInBytes': None}, 'FilesMetaData': [{'FileName': None, 'MimeType': None}, {'FileName': None, 'MimeType': None}, {'FileName': None, 'MimeType': None}, {'FileName': None, 'MimeType': None}, {'FileName': None, 'MimeType': None}]}}, {'_metadata': {'totalCount': 39, 'cursor': 'WzE0MjI0MDMyMDAwMDAsIjk3NjQxMzk0MDc4Il0='}, 'FilingOrganization': {'Names': {'Name': {'OrganizationName': [{'Name': 'APPLE INC.'}]}}}, 'FilingDocument': {'Identifiers': [{'OrganizationId': None, 'Dcn': None}], 'DocId': None, 'FinancialFilingId': None, 'Sections': {'ManagementDiscussion': {'Text': None}}, 'DocumentSummary': {'DocumentTitle': None, 'FeedName': None, 'FormType': None, 'HighLevelCategory': None, 'MidLevelCategory': None, 'FilingDate': None, 'SecAccessionNumber': None, 'SizeInBytes': None}, 'FilesMetaData': [{'FileName': None, 'MimeType': None}, {'FileName': None, 'MimeType': None}, {'FileName': None, 'MimeType': None}, {'FileName': None, 'MimeType': None}, {'FileName': None, 'MimeType': None}]}}, {'_metadata': {'totalCount': 39, 'cursor': 'WzE0MDYwNzM2MDAwMDAsIjk3NjQwMTUxNzcwIl0='}, 'FilingOrganization': {'Names': {'Name': {'OrganizationName': [{'Name': 'APPLE INC.'}]}}}, 'FilingDocument': {'Identifiers': [{'OrganizationId': None, 'Dcn': None}], 'DocId': None, 'FinancialFilingId': None, 'Sections': {'ManagementDiscussion': {'Text': None}}, 'DocumentSummary': {'DocumentTitle': None, 'FeedName': None, 'FormType': None, 'HighLevelCategory': None, 'MidLevelCategory': None, 'FilingDate': None, 'SecAccessionNumber': None, 'SizeInBytes': None}, 'FilesMetaData': [{'FileName': None, 'MimeType': None}, {'FileName': None, 'MimeType': None}, {'FileName': None, 'MimeType': None}, {'FileName': None, 'MimeType': None}, {'FileName': None, 'MimeType': None}]}}, {'_metadata': {'totalCount': 39, 'cursor': 'WzEzOTgyOTc2MDAwMDAsIjk3NjM5NTE1NzEwIl0='}, 'FilingOrganization': {'Names': {'Name': {'OrganizationName': [{'Name': 'APPLE INC.'}]}}}, 'FilingDocument': {'Identifiers': [{'OrganizationId': None, 'Dcn': None}], 'DocId': None, 'FinancialFilingId': None, 'Sections': {'ManagementDiscussion': {'Text': None}}, 'DocumentSummary': {'DocumentTitle': None, 'FeedName': None, 'FormType': None, 'HighLevelCategory': None, 'MidLevelCategory': None, 'FilingDate': None, 'SecAccessionNumber': None, 'SizeInBytes': None}, 'FilesMetaData': [{'FileName': None, 'MimeType': None}, {'FileName': None, 'MimeType': None}, {'FileName': None, 'MimeType': None}, {'FileName': None, 'MimeType': None}, {'FileName': None, 'MimeType': None}]}}, {'_metadata': {'totalCount': 39, 'cursor': 'WzEzOTA4NjcyMDAwMDAsIjk3NjM4Nzk2OTIxIl0='}, 'FilingOrganization': {'Names': {'Name': {'OrganizationName': [{'Name': 'APPLE INC.'}]}}}, 'FilingDocument': {'Identifiers': [{'OrganizationId': None, 'Dcn': None}], 'DocId': None, 'FinancialFilingId': None, 'Sections': {'ManagementDiscussion': {'Text': None}}, 'DocumentSummary': {'DocumentTitle': None, 'FeedName': None, 'FormType': None, 'HighLevelCategory': None, 'MidLevelCategory': None, 'FilingDate': None, 'SecAccessionNumber': None, 'SizeInBytes': None}, 'FilesMetaData': [{'FileName': None, 'MimeType': None}, {'FileName': None, 'MimeType': None}, {'FileName': None, 'MimeType': None}, {'FileName': None, 'MimeType': None}, {'FileName': None, 'MimeType': None}]}}, {'_metadata': {'totalCount': 39, 'cursor': 'WzEzNzQ2MjQwMDAwMDAsIjk3NjM3NDkyMjE1Il0='}, 'FilingOrganization': {'Names': {'Name': {'OrganizationName': [{'Name': 'APPLE INC.'}]}}}, 'FilingDocument': {'Identifiers': [{'OrganizationId': None, 'Dcn': None}], 'DocId': None, 'FinancialFilingId': None, 'Sections': {'ManagementDiscussion': {'Text': None}}, 'DocumentSummary': {'DocumentTitle': None, 'FeedName': None, 'FormType': None, 'HighLevelCategory': None, 'MidLevelCategory': None, 'FilingDate': None, 'SecAccessionNumber': None, 'SizeInBytes': None}, 'FilesMetaData': [{'FileName': None, 'MimeType': None}, {'FileName': None, 'MimeType': None}, {'FileName': None, 'MimeType': None}, {'FileName': None, 'MimeType': None}, {'FileName': None, 'MimeType': None}]}}, {'_metadata': {'totalCount': 39, 'cursor': 'WzEzNjY3NjE2MDAwMDAsIjk3NjM2NzUxMzQyIl0='}, 'FilingOrganization': {'Names': {'Name': {'OrganizationName': [{'Name': 'APPLE INC.'}]}}}, 'FilingDocument': {'Identifiers': [{'OrganizationId': None, 'Dcn': None}], 'DocId': None, 'FinancialFilingId': None, 'Sections': {'ManagementDiscussion': {'Text': None}}, 'DocumentSummary': {'DocumentTitle': None, 'FeedName': None, 'FormType': None, 'HighLevelCategory': None, 'MidLevelCategory': None, 'FilingDate': None, 'SecAccessionNumber': None, 'SizeInBytes': None}, 'FilesMetaData': [{'FileName': None, 'MimeType': None}, {'FileName': None, 'MimeType': None}, {'FileName': None, 'MimeType': None}, {'FileName': None, 'MimeType': None}, {'FileName': None, 'MimeType': None}]}}, {'_metadata': {'totalCount': 39, 'cursor': 'WzEzNTg5ODU2MDAwMDAsIjk3NjM1OTQzOTQ5Il0='}, 'FilingOrganization': {'Names': {'Name': {'OrganizationName': [{'Name': 'APPLE INC.'}]}}}, 'FilingDocument': {'Identifiers': [{'OrganizationId': None, 'Dcn': None}], 'DocId': None, 'FinancialFilingId': None, 'Sections': {'ManagementDiscussion': {'Text': None}}, 'DocumentSummary': {'DocumentTitle': None, 'FeedName': None, 'FormType': None, 'HighLevelCategory': None, 'MidLevelCategory': None, 'FilingDate': None, 'SecAccessionNumber': None, 'SizeInBytes': None}, 'FilesMetaData': [{'FileName': None, 'MimeType': None}, {'FileName': None, 'MimeType': None}, {'FileName': None, 'MimeType': None}, {'FileName': None, 'MimeType': None}, {'FileName': None, 'MimeType': None}]}}, {'_metadata': {'totalCount': 39, 'cursor': 'WzEzNDMxNzQ0MDAwMDAsIjM0Mzg5NTUyMTU5Il0='}, 'FilingOrganization': {'Names': {'Name': {'OrganizationName': [{'Name': 'APPLE INC.'}]}}}, 'FilingDocument': {'Identifiers': [{'OrganizationId': None, 'Dcn': None}], 'DocId': None, 'FinancialFilingId': None, 'Sections': {'ManagementDiscussion': {'Text': None}}, 'DocumentSummary': {'DocumentTitle': None, 'FeedName': None, 'FormType': None, 'HighLevelCategory': None, 'MidLevelCategory': None, 'FilingDate': None, 'SecAccessionNumber': None, 'SizeInBytes': None}, 'FilesMetaData': [{'FileName': None, 'MimeType': None}, {'FileName': None, 'MimeType': None}, {'FileName': None, 'MimeType': None}, {'FileName': None, 'MimeType': None}, {'FileName': None, 'MimeType': None}]}}, {'_metadata': {'totalCount': 39, 'cursor': 'WzEzMzUzMTIwMDAwMDAsIjM0Mzg4OTQzNzQxIl0='}, 'FilingOrganization': {'Names': {'Name': {'OrganizationName': [{'Name': 'APPLE INC.'}]}}}, 'FilingDocument': {'Identifiers': [{'OrganizationId': None, 'Dcn': None}], 'DocId': None, 'FinancialFilingId': None, 'Sections': {'ManagementDiscussion': {'Text': None}}, 'DocumentSummary': {'DocumentTitle': None, 'FeedName': None, 'FormType': None, 'HighLevelCategory': None, 'MidLevelCategory': None, 'FilingDate': None, 'SecAccessionNumber': None, 'SizeInBytes': None}, 'FilesMetaData': [{'FileName': None, 'MimeType': None}, {'FileName': None, 'MimeType': None}, {'FileName': None, 'MimeType': None}, {'FileName': None, 'MimeType': None}, {'FileName': None, 'MimeType': None}]}}, {'_metadata': {'totalCount': 39, 'cursor': 'WzEzMjc0NDk2MDAwMDAsIjM0Mzg4MzA0MjY3Il0='}, 'FilingOrganization': {'Names': {'Name': {'OrganizationName': [{'Name': 'APPLE INC.'}]}}}, 'FilingDocument': {'Identifiers': [{'OrganizationId': None, 'Dcn': None}], 'DocId': None, 'FinancialFilingId': None, 'Sections': {'ManagementDiscussion': {'Text': None}}, 'DocumentSummary': {'DocumentTitle': None, 'FeedName': None, 'FormType': None, 'HighLevelCategory': None, 'MidLevelCategory': None, 'FilingDate': None, 'SecAccessionNumber': None, 'SizeInBytes': None}, 'FilesMetaData': [{'FileName': None, 'MimeType': None}, {'FileName': None, 'MimeType': None}, {'FileName': None, 'MimeType': None}, {'FileName': None, 'MimeType': None}]}}, {'_metadata': {'totalCount': 39, 'cursor': 'WzEzMTExMjAwMDAwMDAsIjM0Mzg3MjI1NTkxIl0='}, 'FilingOrganization': {'Names': {'Name': {'OrganizationName': [{'Name': 'APPLE INC.'}]}}}, 'FilingDocument': {'Identifiers': [{'OrganizationId': None, 'Dcn': None}], 'DocId': None, 'FinancialFilingId': None, 'Sections': {'ManagementDiscussion': {'Text': None}}, 'DocumentSummary': {'DocumentTitle': None, 'FeedName': None, 'FormType': None, 'HighLevelCategory': None, 'MidLevelCategory': None, 'FilingDate': None, 'SecAccessionNumber': None, 'SizeInBytes': None}, 'FilesMetaData': [{'FileName': None, 'MimeType': None}, {'FileName': None, 'MimeType': None}, {'FileName': None, 'MimeType': None}, {'FileName': None, 'MimeType': None}]}}, {'_metadata': {'totalCount': 39, 'cursor': 'WzEzMDMzNDQwMDAwMDAsIjM0Mzg2NjE5NTUxIl0='}, 'FilingOrganization': {'Names': {'Name': {'OrganizationName': [{'Name': 'APPLE INC.'}]}}}, 'FilingDocument': {'Identifiers': [{'OrganizationId': None, 'Dcn': None}], 'DocId': None, 'FinancialFilingId': None, 'Sections': {'ManagementDiscussion': {'Text': None}}, 'DocumentSummary': {'DocumentTitle': None, 'FeedName': None, 'FormType': None, 'HighLevelCategory': None, 'MidLevelCategory': None, 'FilingDate': None, 'SecAccessionNumber': None, 'SizeInBytes': None}, 'FilesMetaData': [{'FileName': None, 'MimeType': None}, {'FileName': None, 'MimeType': None}, {'FileName': None, 'MimeType': None}, {'FileName': None, 'MimeType': None}]}}, {'_metadata': {'totalCount': 39, 'cursor': 'WzEyOTUzOTUyMDAwMDAsIjM0Mzg1ODYwMzQyIl0='}, 'FilingOrganization': {'Names': {'Name': {'OrganizationName': [{'Name': 'APPLE INC.'}]}}}, 'FilingDocument': {'Identifiers': [{'OrganizationId': None, 'Dcn': None}], 'DocId': None, 'FinancialFilingId': None, 'Sections': {'ManagementDiscussion': {'Text': None}}, 'DocumentSummary': {'DocumentTitle': None, 'FeedName': None, 'FormType': None, 'HighLevelCategory': None, 'MidLevelCategory': None, 'FilingDate': None, 'SecAccessionNumber': None, 'SizeInBytes': None}, 'FilesMetaData': [{'FileName': None, 'MimeType': None}, {'FileName': None, 'MimeType': None}, {'FileName': None, 'MimeType': None}, {'FileName': None, 'MimeType': None}]}}, {'_metadata': {'totalCount': 39, 'cursor': 'WzEyNzk2NzA0MDAwMDAsIjM0MzczOTgzMjA4Il0='}, 'FilingOrganization': {'Names': {'Name': {'OrganizationName': [{'Name': 'APPLE INC.'}]}}}, 'FilingDocument': {'Identifiers': [{'OrganizationId': None, 'Dcn': None}], 'DocId': None, 'FinancialFilingId': None, 'Sections': {'ManagementDiscussion': {'Text': None}}, 'DocumentSummary': {'DocumentTitle': None, 'FeedName': None, 'FormType': None, 'HighLevelCategory': None, 'MidLevelCategory': None, 'FilingDate': None, 'SecAccessionNumber': None, 'SizeInBytes': None}, 'FilesMetaData': [{'FileName': None, 'MimeType': None}, {'FileName': None, 'MimeType': None}, {'FileName': None, 'MimeType': None}, {'FileName': None, 'MimeType': None}]}}, {'_metadata': {'totalCount': 39, 'cursor': 'WzEyNzE4MDgwMDAwMDAsIjM0MzczMjIzNzMwIl0='}, 'FilingOrganization': {'Names': {'Name': {'OrganizationName': [{'Name': 'APPLE INC.'}]}}}, 'FilingDocument': {'Identifiers': [{'OrganizationId': None, 'Dcn': None}], 'DocId': None, 'FinancialFilingId': None, 'Sections': {'ManagementDiscussion': {'Text': None}}, 'DocumentSummary': {'DocumentTitle': None, 'FeedName': None, 'FormType': None, 'HighLevelCategory': None, 'MidLevelCategory': None, 'FilingDate': None, 'SecAccessionNumber': None, 'SizeInBytes': None}, 'FilesMetaData': [{'FileName': None, 'MimeType': None}, {'FileName': None, 'MimeType': None}, {'FileName': None, 'MimeType': None}, {'FileName': None, 'MimeType': None}]}}, {'_metadata': {'totalCount': 39, 'cursor': 'WzEyNjQzNzc2MDAwMDAsIjM0MzcyNzA0NzMwIl0='}, 'FilingOrganization': {'Names': {'Name': {'OrganizationName': [{'Name': 'APPLE INC.'}]}}}, 'FilingDocument': {'Identifiers': [{'OrganizationId': None, 'Dcn': None}], 'DocId': None, 'FinancialFilingId': None, 'Sections': {'ManagementDiscussion': {'Text': None}}, 'DocumentSummary': {'DocumentTitle': None, 'FeedName': None, 'FormType': None, 'HighLevelCategory': None, 'MidLevelCategory': None, 'FilingDate': None, 'SecAccessionNumber': None, 'SizeInBytes': None}, 'FilesMetaData': [{'FileName': None, 'MimeType': None}, {'FileName': None, 'MimeType': None}, {'FileName': None, 'MimeType': None}, {'FileName': None, 'MimeType': None}]}}]}, 'extensions': {'warnings': [{'field': 'FinancialFiling.FilingDocument', 'message': 'User did not have entitlements to the field.', 'type': 'NO_ENTITLEMENTS_FOR_FIELD', 'warningCode': 'DW003'}]}}, _request_message=<Request('POST', 'https://api.refinitiv.com/data-store/v1/graphql')>, _http_response=<Response [200 OK]>, _http_headers=Headers({'date': 'Sun, 12 Nov 2023 18:13:16 GMT', 'content-type': 'application/json;charset=UTF-8', 'content-length': '1227', 'connection': 'keep-alive', 'access-control-allow-origin': '*', 'access-control-expose-headers': 'content-type,accept,content-encoding,content-length,x-tr-requestid,x-tr-correlationid, skip-entitlements, gql_debug_mode', 'content-encoding': 'gzip', 'x-amzn-trace-id': 'Root=1-655115bb-5ae05f5166c9de1e086a9efa', 'x-served-by': 'region=eu-west-1; cid=5a4913f7ae1b41a7a42e02eaa5981df9', 'x-tr-requestid': '66d338c1-e107-4154-aa7c-9b2cca21fe2b'}), _http_status={'http_status_code': 200, 'http_reason': 'OK'})"
      ]
     },
     "execution_count": 24,
     "metadata": {},
     "output_type": "execute_result"
    }
   ],
   "source": [
    "response"
   ]
  },
  {
   "cell_type": "markdown",
   "id": "09530f97-9abd-4f00-8976-15dc05e230cd",
   "metadata": {},
   "source": [
    "### Filings text extraction\n",
    "The above request performed the query to retrieve quarterly SEC filings for the company Tesla.  Within the response contains meta data related to the filings as well as the key information requested - the text containing the \"Management Discussion\".  At this point, I plan to prepare for the next step of my analysis by extracting this text for each filings document reported."
   ]
  },
  {
   "cell_type": "code",
   "execution_count": null,
   "id": "29040d3b-9b4f-468c-821b-0d93c46bdde5",
   "metadata": {},
   "outputs": [],
   "source": [
    "import pandas as pd\n",
    "from bs4 import BeautifulSoup\n",
    "\n",
    "# Declare our final results table\n",
    "results = pd.DataFrame()\n",
    "dates = []\n",
    "text = []\n",
    "\n",
    "# Pull out the filings text for each report\n",
    "for filing in reversed(reports):\n",
    "    try:\n",
    "        sections = filing.get('FilingDocument', {}).get('Sections', {})\n",
    "        management_discussion = sections.get('ManagementDiscussion')\n",
    "        \n",
    "        if management_discussion:\n",
    "            section_text = management_discussion.get('Text')\n",
    "            filing_date = filing['FilingDocument']['DocumentSummary']['FilingDate'][:10]\n",
    "\n",
    "            if section_text:\n",
    "                # Process the text. Using BeautifulSoup and other means to clean the data\n",
    "                beautiful_soup_text = BeautifulSoup(section_text, \"html.parser\")\n",
    "                cleaned_text = beautiful_soup_text.prettify(formatter=lambda s: s.replace(u'\\xa0', ' ').replace('\\r', ' '))\n",
    "                \n",
    "                dates.append(filing_date)\n",
    "                text.append(cleaned_text)\n",
    "            else:\n",
    "                print(\"Section text is None for filing date:\", filing_date)\n",
    "        else:\n",
    "            print(\"ManagementDiscussion section not found in filing\")\n",
    "\n",
    "    except Exception as e:\n",
    "        print(\"Error processing filing:\", str(e))\n",
    "\n",
    "results['FilingDate'] = dates\n",
    "results['section'] = text\n"
   ]
  },
  {
   "cell_type": "markdown",
   "id": "6fada60c-525f-475b-aad7-67c7dcac0c4a",
   "metadata": {},
   "source": [
    "#### Capture Closing Prices\n",
    "As part of the analysis, I want to capture the closing price based on the Filings date.  The goal is to look for any possible correlation with the intelligence we extract from the text and the performance of the stock.  While we know performance is based on many factors, the point of this measure is to evaluate one of many possible trends as a way to look for correlation."
   ]
  },
  {
   "cell_type": "code",
   "execution_count": null,
   "id": "6bfc8275-33ba-4a2a-8857-e242ae22c9b0",
   "metadata": {
    "tags": []
   },
   "outputs": [],
   "source": [
    "# Container to hold the Closing Prices based on the filing date\n",
    "prices = []\n",
    "\n",
    "# Walk through the collection of filings and pull out the reported filing date\n",
    "num_rows = len(results)\n",
    "\n",
    "for i in trange(num_rows):\n",
    "    date = results.iloc[i]['FilingDate']\n",
    "    response = rd.get_data(identifier, ['TR.PriceClose.date', 'TR.PriceClose'], parameters = {'SDate': date, 'EDate': date})\n",
    "    if not response.empty:\n",
    "        prices.append(response.iloc[0]['Price Close'])\n",
    "    else:\n",
    "        print(f'Unable to retrieve any data price for {identifier}. May be an issue with permissions')\n",
    "\n",
    "if prices:\n",
    "    results['close'] = prices\n",
    "print(\"**completed**\")"
   ]
  },
  {
   "cell_type": "code",
   "execution_count": null,
   "id": "54c65ae9-4da5-4f10-a71c-93d1bf0326dc",
   "metadata": {},
   "outputs": [],
   "source": [
    "results"
   ]
  },
  {
   "cell_type": "markdown",
   "id": "300b477d-4a28-423d-a048-19b786591069",
   "metadata": {},
   "source": [
    "### AI model evaluation\n",
    "For each of the above filings, break down the entire \"Management Discussions and Analysis\" segment into individual sentences and run each through the pretrained FinBert models to generate our predictions.  The *evaluate()* function below performs the following analysis for each filings report:\n",
    "\n",
    "For each sentence:\n",
    "* Evaluate the FLS predictions\n",
    "* Evaluate the Sentiment\n",
    "\n",
    "Collect the above FLS results to measure the percentage of sentences that are Forward-looking statements."
   ]
  },
  {
   "cell_type": "code",
   "execution_count": null,
   "id": "7a0e153c-4c84-4595-a471-73d2c214f56a",
   "metadata": {},
   "outputs": [],
   "source": [
    "def evaluate(filings):\n",
    "    # Container to hold the percentages of FLS sentences within each filing\n",
    "    fls_pct = []\n",
    "    \n",
    "    # Container to hold the sentiment scores\n",
    "    scores = []\n",
    "\n",
    "    # Walk through the collection of filings and feed into the FinBert models\n",
    "    num_rows = len(filings)\n",
    "\n",
    "    for i in trange(num_rows):\n",
    "        # Pull out the \"Management Section\" text from our filings\n",
    "        management_section = filings.iloc[i]['section']\n",
    "  \n",
    "        # For this section, break it into individual sentences\n",
    "        sentences = sent_tokenize(management_section)\n",
    "    \n",
    "        # Initialize our FLS container\n",
    "        fls = []\n",
    "        \n",
    "        # Define the container to collect stats related to the sentiment scores\n",
    "        # for all forward-looking statement\n",
    "        sentiments = torch.Tensor([0,0,0])\n",
    "        \n",
    "        # Process each sentence, converting into tokens required by the FinBert model.\n",
    "        for sentence in sentences:\n",
    "            # FLS prediction\n",
    "            prediction = nlp(sentence[:512], top_k=3)[0]['label']\n",
    "\n",
    "            # Capture FLS statements\n",
    "            if prediction.startswith(\"Specific\") or prediction.startswith(\"Non\"):\n",
    "                fls.append(sentence)\n",
    "                \n",
    "                # Tokenize - The FinBert model requires tensor-based tokens as input. For any given \n",
    "                # sentence, I must ensure the length must does not exceed the models self-imposed limit.\n",
    "                encoded_input = sent_tokenizer(sentence, return_tensors=\"pt\", truncation=True)\n",
    "                \n",
    "                with torch.no_grad():\n",
    "                    # Run the sentence through the model...\n",
    "                    output = model(**encoded_input)\n",
    "\n",
    "                    # The prediction will be in the form of a probability\n",
    "                    fls_sentiment = torch.nn.functional.softmax(output.logits, dim=-1)\n",
    "\n",
    "                    # Tally the predictions for each sentence\n",
    "                    sentiments = sentiments+fls_sentiment\n",
    "        \n",
    "        # Record the percentage of FLS sentences\n",
    "        fls_pct.append(len(fls)/len(sentences)*100)\n",
    "        \n",
    "        # Record the resulting sentiment for 'FLS' sentences within this section\n",
    "        sentiments = sentiments.divide(len(sentences))\n",
    "\n",
    "        score = model.config.id2label[sentiments.argmax().item()]\n",
    "        print(f'Filing: {i+1} contains {len(sentences)} sentences of which {len(fls)} are \"FLS\" with a sentiment of: {sentiments} => {score}')\n",
    "        scores.append(score)  \n",
    "\n",
    "    # Add the measures to our results table\n",
    "    filings['fls_pct'] = fls_pct\n",
    "    filings[f'fls_sentiment'] = scores"
   ]
  },
  {
   "cell_type": "markdown",
   "id": "ff4be075-e930-4015-baba-36272f86d53b",
   "metadata": {},
   "source": [
    "#### Display Graph module\n",
    "Once we capture our entire data sets, we'll present the results in a detailed graph to determine if we can interpret the results of the predictions presented within our AI models."
   ]
  },
  {
   "cell_type": "code",
   "execution_count": null,
   "id": "e331495b-b073-4199-a406-b8dc13fe3336",
   "metadata": {},
   "outputs": [],
   "source": [
    "# Plot the data\n",
    "def plot(x_axis, title, y1_label, x2_axis, **kwargs):\n",
    "    plt.style.use('dark_background')\n",
    "    plt.rcParams['figure.figsize'] = (17,8)\n",
    "    \n",
    "    fig, ax = plt.subplots()\n",
    "    for label, data in kwargs.items():\n",
    "        # Special label '_' to plot vertical bar\n",
    "        if label == '_':\n",
    "            x = 0\n",
    "            for s in data:\n",
    "                plt.axvline(x, ymax=0.25, color=s['color'], label=s['label'], linestyle=\"--\")\n",
    "                x += 1\n",
    "        else:\n",
    "            ax.plot(x_axis, data, label=label)\n",
    "    \n",
    "    ax2 = ax.twinx()\n",
    "    ax2.plot(x_axis, x2_axis, label=\"Closing Price\", color='red')\n",
    "    \n",
    "    ax.tick_params(labelrotation=90)\n",
    "    \n",
    "    # Remove the spines from the graph - leave the bottom\n",
    "    ax.spines['top'].set_visible(False)\n",
    "    ax.spines['right'].set_visible(False)\n",
    "    ax.spines['left'].set_visible(False)\n",
    "\n",
    "    # Add a faint grid\n",
    "    ax.yaxis.grid(True, alpha=0.2)\n",
    "    ax.xaxis.grid(True, alpha=0.2)\n",
    "\n",
    "    # Add labels and a title. Note the use of `labelpad` and `pad` to add some\n",
    "    # extra space between the text and the tick labels.\n",
    "    ax.set_ylabel(y1_label, labelpad=12, fontsize=14, color='cyan')\n",
    "    ax.set_title(title, pad=15, fontsize=16, color='cyan')\n",
    "    \n",
    "    if len(kwargs) > 1:\n",
    "        ax.legend(loc='upper left')\n",
    "        \n",
    "    ax2.legend(loc='upper right')\n",
    "\n",
    "    fig.tight_layout()"
   ]
  },
  {
   "cell_type": "code",
   "execution_count": null,
   "id": "1a0f9e00-dbcb-48b5-9c66-2b5f3051b0f0",
   "metadata": {},
   "outputs": [],
   "source": [
    "def sentiment_bars(scores):\n",
    "    bars = []\n",
    "    frequency = {'negative':0, 'neutral':0, 'positive':0}\n",
    "    \n",
    "    for s in scores:\n",
    "        bar = {'color': '', 'label': ''}\n",
    "        if s == 'negative':\n",
    "            color = 'red'\n",
    "        elif s == 'neutral':\n",
    "            color = 'yellow'\n",
    "        else:\n",
    "            color = 'green'\n",
    "            \n",
    "        bar['color'] = color\n",
    "        bar['label'] = s if frequency[s] == 0 else '_'\n",
    "        frequency[s] += 1\n",
    "        bars.append(bar)\n",
    "            \n",
    "    return bars"
   ]
  },
  {
   "cell_type": "markdown",
   "id": "da7299dc-1dbd-4eff-8441-bbbfeaabec07",
   "metadata": {},
   "source": [
    "### Analysis\n",
    "With our data, modeling and presentation routines in place, let's begin analysis.  I'll take the results of our filings and run them through the evaluation algorithm to find any correlation."
   ]
  },
  {
   "cell_type": "code",
   "execution_count": null,
   "id": "a03e6128-9ccc-447c-b5e2-18e44bda0d86",
   "metadata": {},
   "outputs": [],
   "source": [
    "# Evaluate our predictions and compare against the sentement scores based on the \n",
    "# FLS sentences.\n",
    "evaluate(results)"
   ]
  },
  {
   "cell_type": "code",
   "execution_count": null,
   "id": "9484174a-25ff-4c54-8805-5cfd1991c49a",
   "metadata": {},
   "outputs": [],
   "source": [
    "# Display the evaluation results in a tabular format\n",
    "results"
   ]
  },
  {
   "cell_type": "markdown",
   "id": "9aa049ce-4caf-40ab-b12b-50d7e3a15364",
   "metadata": {},
   "source": [
    "Based on each filing, the above evaluation introduced 2 new columns:\n",
    "\n",
    "* fls_pct\n",
    " \n",
    " The percentage of sentences that are forward-looking statements.\n",
    " \n",
    "* fls_sentiment\n",
    "\n",
    " For the group of forward-looking statements, evaluate the overall sentiment.\n",
    " \n",
    "With our data in place, visualize the results:"
   ]
  },
  {
   "cell_type": "code",
   "execution_count": null,
   "id": "31c2be06-a739-402e-9184-22d7ed76d7b3",
   "metadata": {},
   "outputs": [],
   "source": [
    "# Visualize the results\n",
    "plot(results['FilingDate'],\n",
    "      f\"Distribution of 10-Q filings for {organization}\",\n",
    "      '% of FLS sentences',\n",
    "      results['close'],\n",
    "      percent_fls=results['fls_pct'],\n",
    "      _=sentiment_bars(results['fls_sentiment']))"
   ]
  },
  {
   "cell_type": "markdown",
   "id": "399bf5b5-be1c-4b16-973a-2e47d4cc9449",
   "metadata": {},
   "source": [
    "The x-axis represents the dates of each of the 10-Q filings report captured.  On the left y-axis, we can see the percentage of sentences within the filings that are forward-looking statements and on the right y-axis we have plotted a simple closing price measure as a general indicator of performance over time.  Finally, we have plotted vertical bars along the x-axis to indicate our sentiment measures for the forward-looking statements.\n",
    "\n",
    "The important measure I want to focus on is the trend and measure of our forward-looking statements for each filing.  As I discussed in the opening, analysts predictions can be subjective, especially when reading text.  The above FLS percentage measure can be interpreted in a number of ways.  For example, if we have a low percentage of FLS statements, does that imply vague outlook? Does a relatively higher percentage of FLS statements indicate confidence?  How do these measures stack up to the stock performance based on the single closing price value?  As expected, it is likely too ambitious to expect a single factor, such as measuring text from a filings report, to provide sound future predictions. Finally, I included a sentiment score for each filing as a possible way to ingest additional analysis into the picture.  In general, all scores fall into the neutral or positive sphere.  As with price, the interpretation of this measure may not be enough to predict any specific outcome."
   ]
  },
  {
   "cell_type": "markdown",
   "id": "47cfec48-a6a4-4b45-8504-4396c428daaa",
   "metadata": {},
   "source": [
    "## Conclusion"
   ]
  },
  {
   "cell_type": "markdown",
   "id": "47edd38b-f9aa-40e3-a0be-d37d1916d278",
   "metadata": {},
   "source": [
    "What is the general takeaway from the above analysis?  I would suggest that the FLS measurements may provide some very interesting output that requires in-depth research.  While it is interesting to plot the performance of the stock and the general sentiment scores, neither of these basic measures appear to provide any correlation, especially if I attempt to analyze multiple companies.  However, that does not mean further research may not provide more interesting results.  For example, can we capture the time series of the stock over a 10-day period to measure the immediate effect of the filings release?  Possibly introducing a [vector autoregression](https://en.wikipedia.org/wiki/Vector_autoregression) statistical analysis may be an option that could possible unearth meaningful correlation."
   ]
  },
  {
   "cell_type": "code",
   "execution_count": null,
   "id": "bc4ef3a9-3974-47ee-97f1-18d5555e529d",
   "metadata": {},
   "outputs": [],
   "source": []
  }
 ],
 "metadata": {
  "kernelspec": {
   "display_name": "cuda",
   "language": "python",
   "name": "python3"
  },
  "language_info": {
   "codemirror_mode": {
    "name": "ipython",
    "version": 3
   },
   "file_extension": ".py",
   "mimetype": "text/x-python",
   "name": "python",
   "nbconvert_exporter": "python",
   "pygments_lexer": "ipython3",
   "version": "3.10.12"
  }
 },
 "nbformat": 4,
 "nbformat_minor": 5
}
