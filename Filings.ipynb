{
 "cells": [
  {
   "cell_type": "markdown",
   "id": "145ced49-f84f-4e4e-a024-1c81539b656b",
   "metadata": {},
   "source": [
    "# Using AI modeling to interpret 10-Q filings\n",
    "As outlined within Investopedia's, [Stock Analysis: Forecasting Revenue and Growth](https://www.investopedia.com/articles/active-trading/022315/stock-analysis-forecasting-revenue-and-growth.asp#:~:text=Analysts%E2%80%99%20forecasts%20are%20crucial%20to%20setting%20expected%20stock,buy%20or%20sell%20a%20stock%20cannot%20be%20made.),  <em>Making forward projections requires numerous inputs; some come from quantitative data and others are more subjective. The reliability and accuracy of the data drive the forecasts</em>.  Much of this information that determines projections, is available within company reports.  While its true that analysts projections are largely driven based on reported metrics, subjective predictions are a result of many factors, including the language and reporting done within company filings reports.\n",
    "\n",
    "While it is critical to factor all inputs when making forward projections, is it possible to find any correlation with projections based on the interpretation of language within company reports?  By utilizing intelligent models that have been trained on financial data, I will investigate the question of whether the interpretation of financial text can provide any indication of the direction of a given company's outlook.\n",
    "\n",
    "## Strategic Approach\n",
    "By utilizing [AI modeling](https://developers.refinitiv.com/en/use-cases-catalog/ai-pipeline), there are a multitude of approaches when formulating a strategy to analyze data with the ability to predict a specific outcome.  A typical analysis will go through a well-defined set of phases from inception and implementation to deployment and continuous improvement. It is an iterative process that can involve several cycles before the solution converges to a finalised pipeline infrastructure. While this process may lead to more focused predictions, it typically involves a greater investment in time and effort.  Instead, I intentionally plan to utilize existing AI models that allow me to investigate if any correlation can be determined without a huge investment.\n",
    "\n",
    "Using a company's 10-Q - a comprehensive report of the performance that includes relevant information about its financial position - I intend to to perform an analysis of the Management Section defined in each report using the [Forward Looking Statements](https://www.investopedia.com/terms/f/forward-looking.asp#:~:text=%22Forward%20looking%22%20is%20a%20business%20term%20used%20to,to%20buy%20or%20sell%20positions%20in%20the%20company) pre-trained [model](https://huggingface.co/FinanceInc/finbert_fls).  The model was specifically designed to analyze sentences from the *Management Discussion and Analysis* section of annual reports to determine if the text is classified as a Forward Looking Statement. Identifying forward-looking statements from corporate reports can assist investors in financial analysis.\n",
    "\n",
    "## Getting Started\n",
    "To setup our analysis, a number of helper modules and packages are defined below that allow me to extract Filings data, capture financial data, manipulate financial text and measure predictions.  To facilitate the ML (Machine Learning) processing, I plan to utilize analysis components available within [Hugging Face](https://huggingface.co/docs/transformers/model_doc/bert) - a popular data science platform to enable the community to build, train and deploy ML models.  In addition, I will employ [Refinitiv's Filings Service](https://developers.refinitiv.com/en/api-catalog/refinitiv-data-platform/filings-API) as the mechanism to query and access text within company 10-Q reporting and use the [Refinitiv Data Library for Python](https://developers.refinitiv.com/en/api-catalog/refinitiv-data-platform/refinitiv-data-library-for-python) as the means to access this service."
   ]
  },
  {
   "cell_type": "code",
   "execution_count": 1,
   "id": "524de671-a1f3-48d8-bb31-558503184400",
   "metadata": {},
   "outputs": [],
   "source": [
    "# NLP package used to aid in text manipulation\n",
    "import nltk\n",
    "from nltk.tokenize import word_tokenize, sent_tokenize\n",
    "\n",
    "# Machine Learning modules used to prepare and measure text\n",
    "from transformers import AutoTokenizer, AutoModelForSequenceClassification\n",
    "from transformers import BertTokenizer, BertForSequenceClassification, pipeline\n",
    "import torch\n",
    "import pandas as pd\n",
    "\n",
    "from tqdm.notebook import trange  # Progress bar\n",
    "import pdfplumber  # PDF text extraction\n",
    "\n",
    "# HTML text processing\n",
    "from bs4 import BeautifulSoup\n",
    "\n",
    "# Helper modules\n",
    "import matplotlib.pyplot as plt\n",
    "from tqdm.notebook import trange  # Progress bar\n",
    "\n",
    "\n",
    "# Convenient modules to simplify API access to Filings\n",
    "pd.set_option('display.max_colwidth', 60)\n"
   ]
  },
  {
   "cell_type": "markdown",
   "id": "2b05f38c-5ce8-472e-bc06-183f49f8975b",
   "metadata": {},
   "source": [
    "### ML modules\n",
    "For the analysis presented here, I plan to utilize the following pre-trained ML models:\n",
    "* [Finbert FLS](https://huggingface.co/FinanceInc/finbert_fls)\n",
    "\n",
    " A FinBERT model fine-tuned on 3,500 manually annotated sentences from the *Management Discussion and Analysis* section of annual reports of Russell 3000 firms. The model is designed to detect *Forward-looking statements* (FLS) that typically indicate beliefs and opinions about firm's future events or results.\n",
    " \n",
    "* [Finbert Sentiment](https://huggingface.co/ProsusAI/finbert)\n",
    "\n",
    " A FinBERT Natural Language Processing (NLP) component to analyze sentiment of financial text. It is built by further training the BERT language model in the finance domain, using a large financial corpus and thereby fine-tuning it for financial sentiment classification.  The goal here is to determine if there is anything indicative when measuring sentiment for the FLS statements within the Filings discussion text."
   ]
  },
  {
   "cell_type": "code",
   "execution_count": 2,
   "id": "d54b0d30-8183-48c7-ba46-4742765f4fa9",
   "metadata": {},
   "outputs": [],
   "source": [
    "# Load the models\n",
    "finbert = BertForSequenceClassification.from_pretrained('yiyanghkust/finbert-fls',num_labels=3)"
   ]
  },
  {
   "cell_type": "code",
   "execution_count": 3,
   "id": "d586df4f-9be6-4b55-99f5-785542fba736",
   "metadata": {},
   "outputs": [],
   "source": [
    "# Download the Pre-trained transformer used to process our raw text\n",
    "tokenizer = BertTokenizer.from_pretrained('yiyanghkust/finbert-fls')"
   ]
  },
  {
   "cell_type": "code",
   "execution_count": 4,
   "id": "3db2bdd2-4909-4484-9180-4118b187d431",
   "metadata": {},
   "outputs": [],
   "source": [
    "# Download the FinBert model used to process our transformed data\n",
    "nlp = pipeline(\"text-classification\", model=finbert, tokenizer=tokenizer)"
   ]
  },
  {
   "cell_type": "markdown",
   "id": "e105b298-3cb9-4086-9dd7-dbc8ca08e81b",
   "metadata": {},
   "source": [
    "The *finbert-fls* model was specifically designed to analyze financial text to provide a score for each of the predictive states defined by the model:\n",
    "* Specific FLS\n",
    "* Non-specific FLS\n",
    "* Not FLS\n",
    "\n",
    "For example, we can feed in any text into the model to demonstrate:"
   ]
  },
  {
   "cell_type": "code",
   "execution_count": 5,
   "id": "f6d8b2b8-4229-4f4a-86ed-926a5b716574",
   "metadata": {},
   "outputs": [
    {
     "data": {
      "text/plain": [
       "[{'label': 'Specific FLS', 'score': 0.8574217557907104},\n",
       " {'label': 'Non-specific FLS', 'score': 0.13532030582427979},\n",
       " {'label': 'Not FLS', 'score': 0.007257894147187471}]"
      ]
     },
     "execution_count": 5,
     "metadata": {},
     "output_type": "execute_result"
    }
   ],
   "source": [
    "prediction = nlp(\"The future for next years sales will increase by 10 %.\", top_k=3)\n",
    "prediction"
   ]
  },
  {
   "cell_type": "markdown",
   "id": "16eaeb5f-6276-4c3a-bc6a-aa861b6faf89",
   "metadata": {},
   "source": [
    "The first 2 outcomes (Specific and Non-specific) represent statements that are **Forward Looking Statements**.  However, the main difference is that 'specific' statements can be interpreted as more precise or specific.  For example:\n",
    "\n",
    "> *The future for next years sales will increase by 10 %.*\n",
    "\n",
    "The above statement is specific in that it is precise regarding the increase in sales by 10%."
   ]
  },
  {
   "cell_type": "code",
   "execution_count": 6,
   "id": "cbb8cd4a-f545-463c-bde2-297399b87276",
   "metadata": {},
   "outputs": [
    {
     "data": {
      "text/plain": [
       "[{'label': 'Non-specific FLS', 'score': 0.5118423700332642},\n",
       " {'label': 'Specific FLS', 'score': 0.47918376326560974},\n",
       " {'label': 'Not FLS', 'score': 0.008973861113190651}]"
      ]
     },
     "execution_count": 6,
     "metadata": {},
     "output_type": "execute_result"
    }
   ],
   "source": [
    "# Conversely, if we change the above statement slightly...\n",
    "prediction = nlp(\"The future for next years sales will increase.\", top_k=3)\n",
    "prediction"
   ]
  },
  {
   "cell_type": "markdown",
   "id": "6c4de2f5-1b78-4865-af8f-94162ffc621b",
   "metadata": {},
   "source": [
    "However, the following statement:\n",
    "\n",
    "> *The future for next years sales will increase.*\n",
    "\n",
    "leans less against specific and more towards non-specific as it is not clear what the sales increase will be.  In general, non-specific statements can be ambiguous and potentially lead to uncertainty where specific statements provide more confidence and clarity.\n",
    "\n",
    "#### Sentiment\n",
    "As part of our analysis, I plan to evaluate the Forward Looking Statement to measure the sentiment of each.  While Forward Looking Statements can provide predictions about future business conditions, these conditions are not necessarily positive.  It might be useful to measure the overall tone of the forward looking statements during the analysis."
   ]
  },
  {
   "cell_type": "code",
   "execution_count": 7,
   "id": "e2cce1cd",
   "metadata": {},
   "outputs": [],
   "source": [
    "# Sentiment - Download the Pre-trained transformer used to process our raw text\n",
    "sent_tokenizer = AutoTokenizer.from_pretrained(\"ProsusAI/finbert\")"
   ]
  },
  {
   "cell_type": "code",
   "execution_count": 8,
   "id": "b7ed8a79-267e-42a4-b026-8d6347d52dcc",
   "metadata": {},
   "outputs": [],
   "source": [
    "# Sentiment - Download the FinBert model used to process our transformed data\n",
    "model = AutoModelForSequenceClassification.from_pretrained(\"ProsusAI/finbert\")"
   ]
  },
  {
   "cell_type": "markdown",
   "metadata": {},
   "source": [
    "#### PDF Text Extraction Function"
   ]
  },
  {
   "cell_type": "code",
   "execution_count": 9,
   "metadata": {},
   "outputs": [],
   "source": [
    "def extract_text_from_pdf(pdf_path):\n",
    "    text = ''\n",
    "    with pdfplumber.open(pdf_path) as pdf:\n",
    "        for page in pdf.pages:\n",
    "            text += page.extract_text() or ''  # Ensuring that None is not returned\n",
    "    return text"
   ]
  },
  {
   "cell_type": "markdown",
   "metadata": {},
   "source": [
    "#### Function to Extract Relevant Section"
   ]
  },
  {
   "cell_type": "code",
   "execution_count": 10,
   "metadata": {},
   "outputs": [],
   "source": [
    "def extract_relevant_section(text, start_keywords, end_keywords):\n",
    "    start_idx = end_idx = None\n",
    "    for keyword in start_keywords:\n",
    "        start_idx = text.find(keyword)\n",
    "        if start_idx != -1:\n",
    "            break\n",
    "\n",
    "    for keyword in end_keywords:\n",
    "        end_idx = text.find(keyword, start_idx)\n",
    "        if end_idx != -1:\n",
    "            break\n",
    "\n",
    "    if start_idx != -1 and end_idx != -1:\n",
    "        return text[start_idx:end_idx]\n",
    "    else:\n",
    "        return text  # Returning the whole text if specific section not found\n"
   ]
  },
  {
   "cell_type": "markdown",
   "id": "16e4f9b2-1df2-4014-a484-6a8232dad663",
   "metadata": {},
   "source": [
    "### Filings\n",
    "The Filings service available within Refinitiv provides the ability to search and extract Global Filings documents for thousands of companies spanning over 50 years of history.  As part of the service, the interface supports the extraction of specific sections within a document.  For example, 10-Q filings are well-structured documents containing specific sections such as Management Discussion, Exhibits, Cashflow Statements, etc.  By utilizing the capabilities offered within the Filings GraphQL interface, I can explicitly choose a specific section for analysis.  Because the <b>entire Filings document</b> is typically complex and contains many standard sections, this will introduce too much insignificant text that may skew the analysis.  Instead, our goal is to utilize the power of the service to choose a specific section that can offer text that may dictate the tone representative of the overall sentiment of the Filing."
   ]
  },
  {
   "cell_type": "markdown",
   "id": "914adaf1-ea08-4b40-9bf4-c5bfbf33853b",
   "metadata": {
    "tags": []
   },
   "source": [
    "#### Define the input properties required for analysis\n",
    "There are a number of ways I can collect filings data and the strategy I can use to evaluate the text.  For this analysis, I've chosen to use a single company and capture multiple reports over time.  One thing I considered was that I intentionally avoided mixing filings from multiple companies.  It's quite possible that we may get more accurate results if we focus on the writing style and tone from the same company.\n",
    "\n",
    "To begin, I'll prepare criteria that acts as the basis for the data sets by choosing a company and a time frame to capture content."
   ]
  },
  {
   "cell_type": "markdown",
   "id": "09530f97-9abd-4f00-8976-15dc05e230cd",
   "metadata": {},
   "source": [
    "### Filings text extraction\n",
    "The above request performed the query to retrieve quarterly SEC filings for the company Tesla.  Within the response contains meta data related to the filings as well as the key information requested - the text containing the \"Management Discussion\".  At this point, I plan to prepare for the next step of my analysis by extracting this text for each filings document reported."
   ]
  },
  {
   "cell_type": "markdown",
   "id": "6fada60c-525f-475b-aad7-67c7dcac0c4a",
   "metadata": {},
   "source": [
    "#### Capture Closing Prices\n",
    "As part of the analysis, I want to capture the closing price based on the Filings date.  The goal is to look for any possible correlation with the intelligence we extract from the text and the performance of the stock.  While we know performance is based on many factors, the point of this measure is to evaluate one of many possible trends as a way to look for correlation."
   ]
  },
  {
   "cell_type": "markdown",
   "id": "300b477d-4a28-423d-a048-19b786591069",
   "metadata": {},
   "source": [
    "### AI model evaluation\n",
    "For each of the above filings, break down the entire \"Management Discussions and Analysis\" segment into individual sentences and run each through the pretrained FinBert models to generate our predictions.  The *evaluate()* function below performs the following analysis for each filings report:\n",
    "\n",
    "For each sentence:\n",
    "* Evaluate the FLS predictions\n",
    "* Evaluate the Sentiment\n",
    "\n",
    "Collect the above FLS results to measure the percentage of sentences that are Forward-looking statements."
   ]
  },
  {
   "cell_type": "code",
   "execution_count": 11,
   "id": "7a0e153c-4c84-4595-a471-73d2c214f56a",
   "metadata": {},
   "outputs": [],
   "source": [
    "def evaluate(filings):\n",
    "    # Container to hold the percentages of FLS sentences within each filing\n",
    "    fls_pct = []\n",
    "    \n",
    "    # Container to hold the sentiment scores\n",
    "    scores = []\n",
    "\n",
    "    # Walk through the collection of filings and feed into the FinBert models\n",
    "    num_rows = len(filings)\n",
    "\n",
    "    for i in trange(num_rows):\n",
    "        # Pull out the \"Management Section\" text from our filings\n",
    "        management_section = filings.iloc[i]['section']\n",
    "\n",
    "        # For this section, break it into individual sentences\n",
    "        sentences = sent_tokenize(management_section)\n",
    "    \n",
    "        # Initialize our FLS container\n",
    "        fls = []\n",
    "        \n",
    "        # Define the container to collect stats related to the sentiment scores\n",
    "        # for all forward-looking statement\n",
    "        sentiments = torch.Tensor([0,0,0])\n",
    "        \n",
    "        # Process each sentence, converting into tokens required by the FinBert model.\n",
    "        for sentence in sentences:\n",
    "            # FLS prediction\n",
    "            prediction = nlp(sentence[:512], top_k=3)[0]['label']\n",
    "\n",
    "            # Capture FLS statements\n",
    "            if prediction.startswith(\"Specific\") or prediction.startswith(\"Non\"):\n",
    "                fls.append(sentence)\n",
    "                \n",
    "                # Tokenize - The FinBert model requires tensor-based tokens as input. For any given \n",
    "                # sentence, I must ensure the length must does not exceed the models self-imposed limit.\n",
    "                encoded_input = sent_tokenizer(sentence, return_tensors=\"pt\", truncation=True)\n",
    "                \n",
    "                with torch.no_grad():\n",
    "                    # Run the sentence through the model...\n",
    "                    output = model(**encoded_input)\n",
    "\n",
    "                    # The prediction will be in the form of a probability\n",
    "                    fls_sentiment = torch.nn.functional.softmax(output.logits, dim=-1)\n",
    "\n",
    "                    # Tally the predictions for each sentence\n",
    "                    sentiments = sentiments+fls_sentiment\n",
    "        \n",
    "        # Record the percentage of FLS sentences\n",
    "        fls_pct.append(len(fls)/len(sentences)*100)\n",
    "        \n",
    "        # Record the resulting sentiment for 'FLS' sentences within this section\n",
    "        sentiments = sentiments.divide(len(sentences))\n",
    "\n",
    "        score = model.config.id2label[sentiments.argmax().item()]\n",
    "        print(f'Filing: {i+1} contains {len(sentences)} sentences of which {len(fls)} are \"FLS\" with a sentiment of: {sentiments} => {score}')\n",
    "        scores.append(score)  \n",
    "\n",
    "    # Add the measures to our results table\n",
    "    filings['fls_pct'] = fls_pct\n",
    "    filings[f'fls_sentiment'] = scores"
   ]
  },
  {
   "cell_type": "markdown",
   "metadata": {},
   "source": [
    "#### Main Workflow\n",
    "This is where you integrate the PDF processing into your existing workflow:"
   ]
  },
  {
   "cell_type": "code",
   "execution_count": 16,
   "metadata": {},
   "outputs": [
    {
     "name": "stdout",
     "output_type": "stream",
     "text": [
      "Income and Operating \n",
      "Management Discussion &\n",
      "Analysis Report\n",
      "Q3 2023\n",
      "14th of November 2023Invest Bank delivered robust performance over the first nine months\n",
      "of 2023, with net operating income growing to AED 199 million, which\n",
      "represents an 81% increase Year-on-Year.\n",
      "Similar performance was also evident in other metrics. Driven by continued\n",
      "strengthening in underlying fundamentals, operational and performance\n",
      "numbers improved across the board, both Y-o-Y and YTD.\n",
      "81% 433%\n",
      "AED 199M AED 50M\n",
      "Operating income Operating profit\n",
      "39 ppts 37 ppts\n",
      "75% 40.1%\n",
      "Cost to income ratio Capital adequacy ratio\n",
      "5 ppts 19 ppts\n",
      "16.4% 49.2%\n",
      "Liquid asset ratio Loans to deposit ratio\n",
      "33% 7%\n",
      "AED 11.4bn AED 8.1bn\n",
      "Total assets Customer deposits\n",
      "1Over the past nine months, Invest Bank continued to\n",
      "make steady progress towards its strategic goals. With\n",
      "dedicated teams attending to forward-looking objectives\n",
      "such as diversifying the client base and revamping the\n",
      "technology infrastructure, other teams continued to\n",
      "work on restructuring and resolving legacy issues. The\n",
      "multi-pronged strategy currently in place will ultimately\n",
      "consolidate Invest Bank’s position as one of the UAE’s\n",
      "leading providers of future-proof banking solutions –\n",
      "both for retail and corporate customers.\n",
      "To further strengthen the bank’s financial standing,\n",
      "a guarantee was secured during the period ending\n",
      "September 2023, with the Government of Sharjah,\n",
      "coupled with AED 2.6 billion, as a capital increase.\n",
      "Part of the available funding will be allocated to\n",
      "modernizing the bank’s systems with break-through\n",
      "technologies, including several regional firsts. Successes\n",
      "in this area are evidenced by multiple awards received by\n",
      "the bank over the previous nine months, including two\n",
      "awards for “The Most Innovative Digital Core Banking\n",
      "Service Provider”.\n",
      "All KPIs point to the success of the efforts under way,\n",
      "with financial results for the preceding nine months,\n",
      "both YoY and YTD, driven by strengthened underlying\n",
      "growth. Operating Income and Operating Profits are\n",
      "both on an upward trend, while Cost to Income and\n",
      "Loans to Deposit ratios continue to drop.\n",
      "2Financial Statements | Summary\n",
      "Income Statement Balance Sheet\n",
      "(AED million) YTD YTD Var. (AED million) Sep Dec Var.\n",
      "Sept Sept 2023 2022\n",
      "2023 2022\n",
      "Net interest income 149 61 144% Cash and deposits 1,014 615 65%\n",
      "with CB\n",
      "Non interest income 50 49 2%\n",
      "Investments 2,340 2,136 10%\n",
      "Loans & advances 3,986 5,137 -22%\n",
      "Operating income 199 110 81%\n",
      "Customer Deposits 8,104 7,587 7%\n",
      "Operating expenses (149) (125) 19% Shareholders’ Funds 2,349 104 2159%\n",
      "Operating profit before 50 (15) 433% Total Assets 11,385 8,567 33%\n",
      "impairment charge\n",
      "Key Ratios\n",
      "Net impairment charge (405) (112) 262%\n",
      "Capital adequacy ratio 40.1% 2.8%\n",
      "Loss for the period (355) (127) 180%\n",
      "Liquid asset ratio 16.4% 11.0%\n",
      "Basic EPS (Fils) (2) (4) Loans to deposit ratio 49.2% 67.7%\n",
      "3Net Interest Income: increased by 144%, with contribution\n",
      "to the total operating income amounting to 75%,\n",
      "which reflects the bank’s success in revenue stream\n",
      "diversification and business model restructuring.\n",
      "Operating profit: amounted during the period to AED\n",
      "50M, i.e. an increase of 433% compared to an operating\n",
      "loss of AED 15M over the corresponding period of last\n",
      "year. Operating profits were recorded for the first time\n",
      "in Q3 2023 since Q1 2022.\n",
      "Balance sheet fundamentals: maintained robust balance\n",
      "sheet fundamentals: total assets up 33% YTD to AED\n",
      "11.4 billion, customer deposits up 7% to AED 8.1 billion,\n",
      "with a very strong liquidity profile.\n",
      "Current Account & Savings Account (CASA) balances:\n",
      "up by 25% YTD, with a contribution of 25% attributed\n",
      "to customer deposits, thus underlining the continuous\n",
      "improvement of the bank’s deposit mix.\n",
      "Net impairment charges: while the allocation of AED\n",
      "405M for the period is higher than that of last year, it\n",
      "reflects the continued efforts in de-risking the balance\n",
      "sheet and alleviating the impact of legacy issues.\n",
      "Capital Adequacy ratio (CAR): increased to 40.1%,\n",
      "further relieving any potential constraints on financing\n",
      "to customers for future growth.\n",
      "Government of Sharjah shareholding increased from\n",
      "50.07% to 88.11% pursuant to a rights issue.\n",
      "4\n"
     ]
    },
    {
     "data": {
      "text/plain": [
       "\"     if section:\\n        # Process the section with your existing evaluate function\\n        evaluation_result = evaluate(section)\\n        # ... Add logic to retrieve and process stock price for the date of the report\\n        stock_price = 100\\n        report_date = '2023-11-14'\\n\\n        # Append the results to the DataFrame\\n        results = results.append(\\n            {'Date': report_date, 'Sentiment': evaluation_result['Sentiment'], 'StockPrice': stock_price}, ignore_index=True) \""
      ]
     },
     "execution_count": 16,
     "metadata": {},
     "output_type": "execute_result"
    }
   ],
   "source": [
    "# Example PDF files and company ticker\n",
    "pdf_files = ['test.pdf']\n",
    "company_ticker = 'INVESTB'\n",
    "\n",
    "# DataFrame to store the results\n",
    "results = pd.DataFrame(columns=['Date', 'Sentiment', 'StockPrice'])\n",
    "\n",
    "\n",
    "for pdf_file in pdf_files:\n",
    "    text = extract_text_from_pdf(pdf_file)\n",
    "    section = extract_relevant_section(\n",
    "        text, ['Income'], ['Profit'])\n",
    "    print(section)\n",
    "\n",
    "print(text)\n",
    "\n",
    "\"\"\"     if section:\n",
    "        # Process the section with your existing evaluate function\n",
    "        evaluation_result = evaluate(section)\n",
    "        # ... Add logic to retrieve and process stock price for the date of the report\n",
    "        stock_price = 100\n",
    "        report_date = '2023-11-14'\n",
    "\n",
    "        # Append the results to the DataFrame\n",
    "        results = results.append(\n",
    "            {'Date': report_date, 'Sentiment': evaluation_result['Sentiment'], 'StockPrice': stock_price}, ignore_index=True) \"\"\"\n",
    "\n",
    "# Visualization and further analysis...\n"
   ]
  },
  {
   "cell_type": "markdown",
   "id": "ff4be075-e930-4015-baba-36272f86d53b",
   "metadata": {},
   "source": [
    "#### Display Graph module\n",
    "Once we capture our entire data sets, we'll present the results in a detailed graph to determine if we can interpret the results of the predictions presented within our AI models."
   ]
  },
  {
   "cell_type": "code",
   "execution_count": null,
   "id": "e331495b-b073-4199-a406-b8dc13fe3336",
   "metadata": {},
   "outputs": [],
   "source": [
    "# Plot the data\n",
    "def plot(x_axis, title, y1_label, x2_axis, **kwargs):\n",
    "    plt.style.use('dark_background')\n",
    "    plt.rcParams['figure.figsize'] = (17,8)\n",
    "    \n",
    "    fig, ax = plt.subplots()\n",
    "    for label, data in kwargs.items():\n",
    "        # Special label '_' to plot vertical bar\n",
    "        if label == '_':\n",
    "            x = 0\n",
    "            for s in data:\n",
    "                plt.axvline(x, ymax=0.25, color=s['color'], label=s['label'], linestyle=\"--\")\n",
    "                x += 1\n",
    "        else:\n",
    "            ax.plot(x_axis, data, label=label)\n",
    "    \n",
    "    ax2 = ax.twinx()\n",
    "    ax2.plot(x_axis, x2_axis, label=\"Closing Price\", color='red')\n",
    "    \n",
    "    ax.tick_params(labelrotation=90)\n",
    "    \n",
    "    # Remove the spines from the graph - leave the bottom\n",
    "    ax.spines['top'].set_visible(False)\n",
    "    ax.spines['right'].set_visible(False)\n",
    "    ax.spines['left'].set_visible(False)\n",
    "\n",
    "    # Add a faint grid\n",
    "    ax.yaxis.grid(True, alpha=0.2)\n",
    "    ax.xaxis.grid(True, alpha=0.2)\n",
    "\n",
    "    # Add labels and a title. Note the use of `labelpad` and `pad` to add some\n",
    "    # extra space between the text and the tick labels.\n",
    "    ax.set_ylabel(y1_label, labelpad=12, fontsize=14, color='cyan')\n",
    "    ax.set_title(title, pad=15, fontsize=16, color='cyan')\n",
    "    \n",
    "    if len(kwargs) > 1:\n",
    "        ax.legend(loc='upper left')\n",
    "        \n",
    "    ax2.legend(loc='upper right')\n",
    "\n",
    "    fig.tight_layout()"
   ]
  },
  {
   "cell_type": "code",
   "execution_count": null,
   "id": "1a0f9e00-dbcb-48b5-9c66-2b5f3051b0f0",
   "metadata": {},
   "outputs": [],
   "source": [
    "def sentiment_bars(scores):\n",
    "    bars = []\n",
    "    frequency = {'negative':0, 'neutral':0, 'positive':0}\n",
    "    \n",
    "    for s in scores:\n",
    "        bar = {'color': '', 'label': ''}\n",
    "        if s == 'negative':\n",
    "            color = 'red'\n",
    "        elif s == 'neutral':\n",
    "            color = 'yellow'\n",
    "        else:\n",
    "            color = 'green'\n",
    "            \n",
    "        bar['color'] = color\n",
    "        bar['label'] = s if frequency[s] == 0 else '_'\n",
    "        frequency[s] += 1\n",
    "        bars.append(bar)\n",
    "            \n",
    "    return bars"
   ]
  },
  {
   "cell_type": "markdown",
   "id": "da7299dc-1dbd-4eff-8441-bbbfeaabec07",
   "metadata": {},
   "source": [
    "### Analysis\n",
    "With our data, modeling and presentation routines in place, let's begin analysis.  I'll take the results of our filings and run them through the evaluation algorithm to find any correlation."
   ]
  },
  {
   "cell_type": "code",
   "execution_count": null,
   "id": "a03e6128-9ccc-447c-b5e2-18e44bda0d86",
   "metadata": {},
   "outputs": [],
   "source": [
    "# Evaluate our predictions and compare against the sentement scores based on the \n",
    "# FLS sentences.\n",
    "evaluate(results)"
   ]
  },
  {
   "cell_type": "code",
   "execution_count": null,
   "id": "9484174a-25ff-4c54-8805-5cfd1991c49a",
   "metadata": {},
   "outputs": [],
   "source": [
    "# Display the evaluation results in a tabular format\n",
    "results"
   ]
  },
  {
   "cell_type": "markdown",
   "id": "9aa049ce-4caf-40ab-b12b-50d7e3a15364",
   "metadata": {},
   "source": [
    "Based on each filing, the above evaluation introduced 2 new columns:\n",
    "\n",
    "* fls_pct\n",
    " \n",
    " The percentage of sentences that are forward-looking statements.\n",
    " \n",
    "* fls_sentiment\n",
    "\n",
    " For the group of forward-looking statements, evaluate the overall sentiment.\n",
    " \n",
    "With our data in place, visualize the results:"
   ]
  },
  {
   "cell_type": "code",
   "execution_count": null,
   "id": "31c2be06-a739-402e-9184-22d7ed76d7b3",
   "metadata": {},
   "outputs": [],
   "source": [
    "# Visualize the results\n",
    "plot(results['FilingDate'],\n",
    "      f\"Distribution of 10-Q filings for {organization}\",\n",
    "      '% of FLS sentences',\n",
    "      results['close'],\n",
    "      percent_fls=results['fls_pct'],\n",
    "      _=sentiment_bars(results['fls_sentiment']))"
   ]
  },
  {
   "cell_type": "markdown",
   "id": "399bf5b5-be1c-4b16-973a-2e47d4cc9449",
   "metadata": {},
   "source": [
    "The x-axis represents the dates of each of the 10-Q filings report captured.  On the left y-axis, we can see the percentage of sentences within the filings that are forward-looking statements and on the right y-axis we have plotted a simple closing price measure as a general indicator of performance over time.  Finally, we have plotted vertical bars along the x-axis to indicate our sentiment measures for the forward-looking statements.\n",
    "\n",
    "The important measure I want to focus on is the trend and measure of our forward-looking statements for each filing.  As I discussed in the opening, analysts predictions can be subjective, especially when reading text.  The above FLS percentage measure can be interpreted in a number of ways.  For example, if we have a low percentage of FLS statements, does that imply vague outlook? Does a relatively higher percentage of FLS statements indicate confidence?  How do these measures stack up to the stock performance based on the single closing price value?  As expected, it is likely too ambitious to expect a single factor, such as measuring text from a filings report, to provide sound future predictions. Finally, I included a sentiment score for each filing as a possible way to ingest additional analysis into the picture.  In general, all scores fall into the neutral or positive sphere.  As with price, the interpretation of this measure may not be enough to predict any specific outcome."
   ]
  },
  {
   "cell_type": "markdown",
   "id": "47cfec48-a6a4-4b45-8504-4396c428daaa",
   "metadata": {},
   "source": [
    "## Conclusion"
   ]
  },
  {
   "cell_type": "markdown",
   "id": "47edd38b-f9aa-40e3-a0be-d37d1916d278",
   "metadata": {},
   "source": [
    "What is the general takeaway from the above analysis?  I would suggest that the FLS measurements may provide some very interesting output that requires in-depth research.  While it is interesting to plot the performance of the stock and the general sentiment scores, neither of these basic measures appear to provide any correlation, especially if I attempt to analyze multiple companies.  However, that does not mean further research may not provide more interesting results.  For example, can we capture the time series of the stock over a 10-day period to measure the immediate effect of the filings release?  Possibly introducing a [vector autoregression](https://en.wikipedia.org/wiki/Vector_autoregression) statistical analysis may be an option that could possible unearth meaningful correlation."
   ]
  },
  {
   "cell_type": "code",
   "execution_count": null,
   "id": "bc4ef3a9-3974-47ee-97f1-18d5555e529d",
   "metadata": {},
   "outputs": [],
   "source": []
  }
 ],
 "metadata": {
  "kernelspec": {
   "display_name": "cuda",
   "language": "python",
   "name": "python3"
  },
  "language_info": {
   "codemirror_mode": {
    "name": "ipython",
    "version": 3
   },
   "file_extension": ".py",
   "mimetype": "text/x-python",
   "name": "python",
   "nbconvert_exporter": "python",
   "pygments_lexer": "ipython3",
   "version": "3.10.12"
  }
 },
 "nbformat": 4,
 "nbformat_minor": 5
}
