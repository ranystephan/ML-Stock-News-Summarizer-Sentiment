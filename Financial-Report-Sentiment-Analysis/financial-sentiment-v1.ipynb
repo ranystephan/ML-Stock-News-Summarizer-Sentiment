{
 "cells": [
  {
   "cell_type": "code",
   "execution_count": 3,
   "metadata": {},
   "outputs": [],
   "source": [
    "import requests\n",
    "import json\n",
    "import time\n",
    "import getopt\n",
    "import sys\n",
    "import os\n",
    "import pandas as pd\n"
   ]
  },
  {
   "cell_type": "code",
   "execution_count": 5,
   "metadata": {},
   "outputs": [],
   "source": [
    "USERNAME = \"rcs04@mail.aub.edu\"\n",
    "PASSWORD = \"Iloveapplle123!!\"\n",
    "CLIENT_ID = \"d383a5a913ea43739e4cd6fb50d8a26d4cee32da\"\n"
   ]
  },
  {
   "cell_type": "code",
   "execution_count": 6,
   "metadata": {},
   "outputs": [],
   "source": [
    "# Set Application Constants\n",
    "RDP_AUTH_VERSION = \"/v1\"\n",
    "RDP_FILINGS_VERSION = \"/beta1\"\n",
    "RDP_BASE_URL = \"https://api.refinitiv.com\"\n",
    "CATEGORY_URL = \"/auth/oauth2\"\n",
    "ENDPOINT_URL = \"/token\"\n",
    "CLIENT_SECRET = \"\"\n",
    "TOKEN_FILE = \"token.txt\"\n",
    "SCOPE = \"trapi\"\n"
   ]
  },
  {
   "cell_type": "markdown",
   "metadata": {},
   "source": [
    "## Define Token Handling and Obtain a Valid Token"
   ]
  },
  {
   "cell_type": "code",
   "execution_count": 7,
   "metadata": {},
   "outputs": [
    {
     "name": "stdout",
     "output_type": "stream",
     "text": [
      "Reading the token from: token.txt\n",
      "Caught exception: [Errno 2] No such file or directory: 'token.txt'\n",
      "Getting a new token using Password Grant...\n",
      "Saving the new token\n",
      "Have token now\n",
      "Token is: eyJ0eXAiOiJhdCtqd3QiLCJhbGciOiJSUzI1NiIsImtpZCI6ImRMdFd2Q0tCSC1NclVyWm9YMXFod2pZQ2t1eDV0V2ZSS2o4ME9vcjdUY28ifQ.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.rUe6xzUvnSgy0ndVvDWGjOmZbf0CbEnnIN2m51YYlH07hUHnMjmMGpiJ5SidISYRcJPpJKbJFHAL9mbMO6qoP8ipvuTpf9gVC-oAHPn4BZYmyseMD-r4LrdXbJvyakISVHc1_U236K1bG4T7B3C1pgDrSbv4sLNznCqT-UMPWVjaJKxVBuQVSIoIoAqcYsGP_mTjDVldqRx1Yr5X2qgmDjKM6YNqymOSKbnLWLPc_IXuKq289xUMq4WZcCwsQpi5IO3qXYfA_RnHtpnGE56B9QxKVxHa0FLEhBytdqSNBzANXj4CS62dtRMhE8ZctUh8HFnYn6amH6g-BbnIs4fbIw\n"
     ]
    }
   ],
   "source": [
    "TOKEN_ENDPOINT = RDP_BASE_URL + CATEGORY_URL + RDP_AUTH_VERSION + ENDPOINT_URL\n",
    "\n",
    "\n",
    "def _requestNewToken(refreshToken):\n",
    "    if refreshToken is None:\n",
    "        tData = {\n",
    "            \"username\": USERNAME,\n",
    "            \"password\": PASSWORD,\n",
    "            \"grant_type\": \"password\",\n",
    "            \"scope\": SCOPE,\n",
    "            \"takeExclusiveSignOnControl\": \"true\"\n",
    "        }\n",
    "    else:\n",
    "        tData = {\n",
    "            \"refresh_token\": refreshToken,\n",
    "            \"grant_type\": \"refresh_token\",\n",
    "        }\n",
    "\n",
    "    # Make a REST call to get latest access token\n",
    "    response = requests.post(\n",
    "        TOKEN_ENDPOINT,\n",
    "        headers={\n",
    "            \"Accept\": \"application/json\"\n",
    "        },\n",
    "        data=tData,\n",
    "        auth=(\n",
    "            CLIENT_ID,\n",
    "            CLIENT_SECRET\n",
    "        )\n",
    "    )\n",
    "\n",
    "    if response.status_code != 200:\n",
    "        raise Exception(\n",
    "            \"Failed to get access token {0} - {1}\".format(response.status_code, response.text))\n",
    "\n",
    "    # Return the new token\n",
    "    return json.loads(response.text)\n",
    "\n",
    "\n",
    "def saveToken(tknObject):\n",
    "    tf = open(TOKEN_FILE, \"w+\")\n",
    "    print(\"Saving the new token\")\n",
    "    # Append the expiry time to token\n",
    "    tknObject[\"expiry_tm\"] = time.time() + int(tknObject[\"expires_in\"]) - 10\n",
    "    # Store it in the file\n",
    "    json.dump(tknObject, tf, indent=4)\n",
    "\n",
    "\n",
    "def getToken():\n",
    "    try:\n",
    "        print(\"Reading the token from: \" + TOKEN_FILE)\n",
    "        # Read the token from a file\n",
    "        tf = open(TOKEN_FILE, \"r+\")\n",
    "        tknObject = json.load(tf)\n",
    "\n",
    "        # Is access token valid\n",
    "        if tknObject[\"expiry_tm\"] > time.time():\n",
    "            # return access token\n",
    "            print(tknObject[\"expiry_tm\"])\n",
    "            print(\"time.time()=\" + str(time.time()))\n",
    "            return tknObject[\"access_token\"]\n",
    "\n",
    "        print(\"Token expired, refreshing a new one...\")\n",
    "        tf.close()\n",
    "        # Get a new token from refresh token\n",
    "        tknObject = _requestNewToken(tknObject[\"refresh_token\"])\n",
    "\n",
    "    except Exception as exp:\n",
    "        print(\"Caught exception: \" + str(exp))\n",
    "        print(\"Getting a new token using Password Grant...\")\n",
    "        tknObject = _requestNewToken(None)\n",
    "\n",
    "    # Persist this token for future queries\n",
    "    saveToken(tknObject)\n",
    "#    print(\"Token is: \" + tknObject[\"access_token\"])\n",
    "    # Return access token\n",
    "    return tknObject[\"access_token\"]\n",
    "\n",
    "\n",
    "accessToken = getToken()\n",
    "print(\"Have token now\")\n",
    "print(\"Token is: \" + accessToken)\n"
   ]
  },
  {
   "cell_type": "markdown",
   "metadata": {},
   "source": [
    "## Define Filings Helper Function requestSearch"
   ]
  },
  {
   "cell_type": "code",
   "execution_count": 8,
   "metadata": {},
   "outputs": [],
   "source": [
    "FILINGS_ENDPOINT = RDP_BASE_URL+'/data-store'+RDP_FILINGS_VERSION + '/graphql'\n",
    "\n",
    "\n",
    "def requestSearch(token, payloadSearch):\n",
    "\n",
    "    global FILINGS_ENDPOINT\n",
    "    print(\"requestSearch...\")\n",
    "\n",
    "    querystring = {}\n",
    "    payload = \"\"\n",
    "    jsonfull = \"\"\n",
    "    jsonpartial = \"\"\n",
    "\n",
    "    headers = {\n",
    "        'Content-Type': \"application/json\",\n",
    "        'Authorization': \"Bearer \" + token,\n",
    "        'cache-control': \"no-cache\"\n",
    "    }\n",
    "\n",
    "    response = requests.post(FILINGS_ENDPOINT, json={\n",
    "                             'query': payloadSearch}, headers=headers)\n",
    "\n",
    "    print(\"Response status code =\"+str(response.status_code))\n",
    "\n",
    "    if response.status_code != 200:\n",
    "        if response.status_code == 401:   # error when token expired\n",
    "            accessToken = getToken()     # token refresh on token expired\n",
    "            headers[\"Authorization\"] = \"Bearer \" + accessToken\n",
    "            response = requests.post(FILINGS_ENDPOINT, json={\n",
    "                'query': payloadSearch}, headers=headers)\n",
    "\n",
    "    print('Raw response=')\n",
    "    print(response)\n",
    "\n",
    "    if response.status_code == 200:\n",
    "        jsonFullResp = json.loads(response.text)\n",
    "        return jsonFullResp\n",
    "    else:\n",
    "        return ''\n"
   ]
  },
  {
   "cell_type": "markdown",
   "metadata": {},
   "source": [
    "## Search Filings by File Type"
   ]
  },
  {
   "cell_type": "code",
   "execution_count": 9,
   "metadata": {},
   "outputs": [
    {
     "name": "stdout",
     "output_type": "stream",
     "text": [
      "requestSearch...\n",
      "Response status code =404\n",
      "Raw response=\n",
      "<Response [404]>\n",
      "Parsed json response=\n",
      "\"\"\n"
     ]
    },
    {
     "ename": "TypeError",
     "evalue": "string indices must be integers",
     "output_type": "error",
     "traceback": [
      "\u001b[0;31m---------------------------------------------------------------------------\u001b[0m",
      "\u001b[0;31mTypeError\u001b[0m                                 Traceback (most recent call last)",
      "Cell \u001b[0;32mIn[9], line 50\u001b[0m\n\u001b[1;32m     48\u001b[0m \u001b[38;5;28mprint\u001b[39m(\u001b[38;5;124m'\u001b[39m\u001b[38;5;124mParsed json response=\u001b[39m\u001b[38;5;124m'\u001b[39m)\n\u001b[1;32m     49\u001b[0m \u001b[38;5;28mprint\u001b[39m(json\u001b[38;5;241m.\u001b[39mdumps(jsonFullResp, indent\u001b[38;5;241m=\u001b[39m\u001b[38;5;241m2\u001b[39m))\n\u001b[0;32m---> 50\u001b[0m docId \u001b[38;5;241m=\u001b[39m \u001b[43mjsonFullResp\u001b[49m\u001b[43m[\u001b[49m\u001b[38;5;124;43m\"\u001b[39;49m\u001b[38;5;124;43mdata\u001b[39;49m\u001b[38;5;124;43m\"\u001b[39;49m\u001b[43m]\u001b[49m[\u001b[38;5;124m\"\u001b[39m\u001b[38;5;124mFinancialFiling\u001b[39m\u001b[38;5;124m\"\u001b[39m][\u001b[38;5;241m0\u001b[39m][\u001b[38;5;124m\"\u001b[39m\u001b[38;5;124mFilingDocument\u001b[39m\u001b[38;5;124m\"\u001b[39m][\u001b[38;5;124m\"\u001b[39m\u001b[38;5;124mDocId\u001b[39m\u001b[38;5;124m\"\u001b[39m]\n\u001b[1;32m     51\u001b[0m \u001b[38;5;28mprint\u001b[39m(\u001b[38;5;124m'\u001b[39m\u001b[38;5;124mDocId is\u001b[39m\u001b[38;5;124m'\u001b[39m, \u001b[38;5;28mstr\u001b[39m(docId))\n\u001b[1;32m     52\u001b[0m cursor \u001b[38;5;241m=\u001b[39m jsonFullResp[\u001b[38;5;124m\"\u001b[39m\u001b[38;5;124mdata\u001b[39m\u001b[38;5;124m\"\u001b[39m][\u001b[38;5;124m\"\u001b[39m\u001b[38;5;124mFinancialFiling\u001b[39m\u001b[38;5;124m\"\u001b[39m][\u001b[38;5;241m0\u001b[39m][\u001b[38;5;124m\"\u001b[39m\u001b[38;5;124m_metadata\u001b[39m\u001b[38;5;124m\"\u001b[39m][\u001b[38;5;124m\"\u001b[39m\u001b[38;5;124mcursor\u001b[39m\u001b[38;5;124m\"\u001b[39m]\n",
      "\u001b[0;31mTypeError\u001b[0m: string indices must be integers"
     ]
    }
   ],
   "source": [
    "# The following example searched for all 10-Qs on February 12, 2021\n",
    "payloadIn = \"\"\"\n",
    "{\n",
    "  FinancialFiling(filter: {AND: [\n",
    "    {FilingDocument: {DocumentSummary: {FormType: {EQ: \"10-K\"}}}}, \n",
    "    {FilingDocument: {DocumentSummary: {FilingDate: {BETWN: {FROM: \"2021-02-12T00:00:00Z\", TO: \"2021-02-12T23:59:59Z\"}}}}}]}, \n",
    "    sort: {FilingDocument: {DocumentSummary: {FilingDate: DESC}}},\n",
    "    limit: 25 ) {\n",
    "    _metadata {\n",
    "      totalCount\n",
    "      cursor\n",
    "    }\n",
    "    FilingOrganization {\n",
    "      Names {\n",
    "        Name {\n",
    "          OrganizationName (filter: {OrganizationNameTypeCode: {EQ: \"LNG\"}}){\n",
    "            OrganizationName\n",
    "          }\n",
    "        }\n",
    "      }\n",
    "    }\n",
    "    FilingDocument {\n",
    "      Identifiers {\n",
    "        OrganizationId\n",
    "        Dcn\n",
    "      }\n",
    "      DocId\n",
    "      FinancialFilingId\n",
    "      DocumentSummary {\n",
    "        DocumentTitle\n",
    "        FeedName\n",
    "        FormType\n",
    "        HighLevelCategory\n",
    "        MidLevelCategory\n",
    "        FilingDate\n",
    "        SecAccessionNumber\n",
    "        SizeInBytes\n",
    "      }\n",
    "      FilesMetaData {\n",
    "        FileName\n",
    "        MimeType\n",
    "      }\n",
    "    }\n",
    "  }\n",
    "}\n",
    "\"\"\"\n",
    "jsonFullResp = requestSearch(accessToken, payloadIn)\n",
    "print('Parsed json response=')\n",
    "print(json.dumps(jsonFullResp, indent=2))\n",
    "docId = jsonFullResp[\"data\"][\"FinancialFiling\"][0][\"FilingDocument\"][\"DocId\"]\n",
    "print('DocId is', str(docId))\n",
    "cursor = jsonFullResp[\"data\"][\"FinancialFiling\"][0][\"_metadata\"][\"cursor\"]\n",
    "print('cursor is', str(cursor))\n"
   ]
  },
  {
   "cell_type": "markdown",
   "metadata": {},
   "source": [
    "## Search by OrganizationId"
   ]
  },
  {
   "cell_type": "code",
   "execution_count": null,
   "metadata": {},
   "outputs": [],
   "source": [
    "# Search for all filings documents for Tesla in 2021\n",
    "\n",
    "payloadIn = \"\"\"\n",
    "{\n",
    "  FinancialFiling(filter: {AND: [{FilingDocument: {Identifiers: {OrganizationId: {EQ: \"4297089638\"}}}}, \n",
    "    {FilingDocument: {DocumentSummary: {FilingDate: {BETWN: {FROM: \"2021-01-01T00:00:00Z\", TO: \"2021-12-31T11:59:59Z\"}}}}}]}, \n",
    "    sort: {FilingDocument: {DocumentSummary: {FilingDate: DESC}}}, \n",
    "    limit: 10) {\n",
    "    _metadata {\n",
    "      totalCount\n",
    "    }\n",
    "    FilingOrganization {\n",
    "      Names {\n",
    "        Name {\n",
    "          OrganizationName (filter: {OrganizationNameTypeCode: {EQ: \"LNG\"}}){\n",
    "            OrganizationName\n",
    "          }\n",
    "        }\n",
    "      }\n",
    "    }\n",
    "    FilingDocument {\n",
    "      Identifiers {\n",
    "        OrganizationId\n",
    "        Dcn\n",
    "      }\n",
    "      DocId\n",
    "      FinancialFilingId\n",
    "      DocumentSummary {\n",
    "        DocumentTitle\n",
    "        FeedName\n",
    "        FormType\n",
    "        HighLevelCategory\n",
    "        MidLevelCategory\n",
    "        FilingDate\n",
    "        SecAccessionNumber\n",
    "        SizeInBytes\n",
    "      }\n",
    "      FilesMetaData {\n",
    "        FileName\n",
    "        MimeType\n",
    "      }\n",
    "    }\n",
    "  }\n",
    "}\n",
    "\"\"\"\n",
    "jsonFullResp = requestSearch(accessToken, payloadIn)\n",
    "print('Parsed json response=')\n",
    "print(json.dumps(jsonFullResp, indent=2))\n"
   ]
  },
  {
   "cell_type": "markdown",
   "metadata": {},
   "source": [
    "## Download Filings Documents\n",
    "There are four identifers or retrieval methods you can use to download a document.\n",
    "\n",
    "* FilingId (FilingId, or Financial Filing Id, is an internal permanent identifier assigned to each filings document. This is our strategic filings identifier.)\n",
    "* Dcn (Dcn, also known as Document Control Number, is an external identifier and an enclosed film-number specific to Edgar documents.)\n",
    "* DocId (DocId, or Document Identifier, is an internal identifier assigned to financial filings documents.)\n",
    "* Filename (Filename provides a faster and direct route to download documents without going through a resolver.)"
   ]
  },
  {
   "cell_type": "markdown",
   "metadata": {},
   "source": [
    "### Define Helper Function retrieveURL"
   ]
  },
  {
   "cell_type": "code",
   "execution_count": null,
   "metadata": {},
   "outputs": [],
   "source": [
    "def retrieveURL(token, retrievalParameters):\n",
    "\n",
    "    ENDPOINT_DOC_RETRIEVAL = RDP_BASE_URL+'/data/filings' + \\\n",
    "        RDP_FILINGS_VERSION + '/retrieval/search/' + retrievalParameters\n",
    "\n",
    "    headers = {\n",
    "        \"Authorization\": \"Bearer \" + token,\n",
    "        \"X-API-Key\": \"155d9dbf-f0ac-46d9-8b77-f7f6dcd238f8\",\n",
    "        \"ClientID\": \"api_playground\"\n",
    "    }\n",
    "    print(\"Next we retrieve: \" + ENDPOINT_DOC_RETRIEVAL)\n",
    "\n",
    "    response = requests.get(ENDPOINT_DOC_RETRIEVAL, headers=headers)\n",
    "\n",
    "    print(\"Response status code =\"+str(response.status_code))\n",
    "\n",
    "    if response.status_code != 200:\n",
    "        if response.status_code == 401:   # error when token expired\n",
    "            token = getToken()     # token refresh on token expired\n",
    "            print(\"Token now is: \"+token)\n",
    "            headers[\"Authorization\"] = \"Bearer \" + token\n",
    "            response = requests.get(\n",
    "                ENDPOINT_DOC_RETRIEVAL, headers=headers)\n",
    "\n",
    "    print(\"Response status code =\"+str(response.status_code))\n",
    "    if response.status_code == 200:\n",
    "        jsonFullResp = json.loads(response.text)\n",
    "        return jsonFullResp\n",
    "    else:\n",
    "        return ''\n"
   ]
  },
  {
   "cell_type": "markdown",
   "metadata": {},
   "source": [
    "### Retrieve URL by DocID"
   ]
  },
  {
   "cell_type": "code",
   "execution_count": null,
   "metadata": {},
   "outputs": [],
   "source": [
    "jsonFullResp = retrieveURL(accessToken, 'docId/54932207')\n",
    "print('full response is =')\n",
    "print(json.dumps(jsonFullResp, indent=2))\n",
    "fileName = list(jsonFullResp.keys())[0]\n",
    "print(\"fileName is: \")\n",
    "print(fileName)\n",
    "signedUrl = jsonFullResp[list(jsonFullResp.keys())[0]][\"signedUrl\"]\n",
    "print(\"signedUrl to retrieve is: \")\n",
    "print(signedUrl)\n"
   ]
  },
  {
   "cell_type": "markdown",
   "metadata": {},
   "source": [
    "### Retrieve URL by FilingID"
   ]
  },
  {
   "cell_type": "code",
   "execution_count": null,
   "metadata": {},
   "outputs": [],
   "source": [
    "jsonFullResp = retrieveURL(accessToken, 'filingId/97661417885')\n",
    "print('full response is =')\n",
    "print(json.dumps(jsonFullResp, indent=2))\n",
    "fileName = list(jsonFullResp.keys())[0]\n",
    "print(\"fileName is: \")\n",
    "print(fileName)\n",
    "signedUrl = jsonFullResp[list(jsonFullResp.keys())[0]][\"signedUrl\"]\n",
    "print(\"signedUrl to retrieve is: \")\n",
    "print(signedUrl)\n"
   ]
  },
  {
   "cell_type": "markdown",
   "metadata": {},
   "source": [
    "### Download the Document"
   ]
  },
  {
   "cell_type": "code",
   "execution_count": null,
   "metadata": {},
   "outputs": [],
   "source": [
    "def retrieveSaveDoc(fileName, signedUrl, token):\n",
    "\n",
    "    headers = {\n",
    "        'clientId': CLIENT_ID,\n",
    "        'Authorization': \"Bearer \" + token\n",
    "    }\n",
    "\n",
    "    response = requests.get(signedUrl, headers=headers, allow_redirects=True)\n",
    "\n",
    "    if response.status_code == 200:\n",
    "        filenameWithDir = './downloads/' + str(fileName)\n",
    "        os.makedirs(os.path.dirname(filenameWithDir), exist_ok=True)\n",
    "        open(filenameWithDir, 'wb').write(response.content)\n",
    "        print(\"The document \", fileName,\n",
    "              \" has been downloaded indo downloads subfolder\")\n",
    "        return fileName\n",
    "    else:\n",
    "        print(\"Response code on error is:\", str(response.status_code))\n",
    "        return ''\n",
    "\n",
    "\n",
    "retrieveSaveDoc(fileName, signedUrl, accessToken)\n"
   ]
  },
  {
   "cell_type": "code",
   "execution_count": null,
   "metadata": {},
   "outputs": [],
   "source": [
    "# NLP package used to aid in text manipulation\n",
    "import nltk\n",
    "from nltk.tokenize import word_tokenize, sent_tokenize\n",
    "# Machine Learning modules used to prepare and measure text\n",
    "from transformers import AutoTokenizer, AutoModelForSequenceClassification\n",
    "from transformers import BertTokenizer, BertForSequenceClassification, pipeline\n",
    "import torch\n",
    "# HTML text processing\n",
    "from bs4 import BeautifulSoup\n",
    "# Helper modules\n",
    "import matplotlib.pyplot as plt\n",
    "from tqdm.notebook import trange  # Progress bar\n",
    "# Refinitiv packages to extract filings data and retrieve price data\n",
    "import refinitiv.data as rd\n",
    "from refinitiv.data.content import filings\n",
    "# Convenient modules to simplify API access to Filings\n",
    "%run ./FilingsQuery.ipynb\n",
    "%run ./SymbolLookup.ipynb\n",
    "pd.set_option('display.max_colwidth', 60)"
   ]
  },
  {
   "cell_type": "code",
   "execution_count": null,
   "metadata": {},
   "outputs": [],
   "source": [
    "# Open a session to retrieve Filings data from RDP\n",
    "rd.open_session()\n"
   ]
  },
  {
   "cell_type": "code",
   "execution_count": null,
   "metadata": {},
   "outputs": [],
   "source": [
    "# Load the models\n",
    "finbert = BertForSequenceClassification.from_pretrained('yiyanghkust/finbert-fls',num_labels=3)"
   ]
  },
  {
   "cell_type": "code",
   "execution_count": null,
   "metadata": {},
   "outputs": [],
   "source": [
    "# Download the Pre-trained transformer used to process our raw text\n",
    "tokenizer = BertTokenizer.from_pretrained('yiyanghkust/finbert-fls')\n"
   ]
  },
  {
   "cell_type": "code",
   "execution_count": null,
   "metadata": {},
   "outputs": [],
   "source": [
    "prediction = nlp(\n",
    "    \"The future for next years sales will increase by 10 %.\", top_k=3)\n",
    "prediction\n"
   ]
  },
  {
   "cell_type": "code",
   "execution_count": null,
   "metadata": {},
   "outputs": [],
   "source": [
    "# Sentiment - Download the Pre-trained transformer used to process our raw text\n",
    "sent_tokenizer = AutoTokenizer.from_pretrained(\"ProsusAI/finbert\")\n"
   ]
  },
  {
   "cell_type": "code",
   "execution_count": null,
   "metadata": {},
   "outputs": [],
   "source": [
    "# Sentiment - Download the FinBert model used to process our transformed data\n",
    "model = AutoModelForSequenceClassification.from_pretrained(\"ProsusAI/finbert\")\n"
   ]
  },
  {
   "cell_type": "code",
   "execution_count": null,
   "metadata": {},
   "outputs": [],
   "source": []
  }
 ],
 "metadata": {
  "kernelspec": {
   "display_name": "cuda-gpt",
   "language": "python",
   "name": "cuda"
  },
  "language_info": {
   "codemirror_mode": {
    "name": "ipython",
    "version": 3
   },
   "file_extension": ".py",
   "mimetype": "text/x-python",
   "name": "python",
   "nbconvert_exporter": "python",
   "pygments_lexer": "ipython3",
   "version": "3.10.12"
  }
 },
 "nbformat": 4,
 "nbformat_minor": 4
}
